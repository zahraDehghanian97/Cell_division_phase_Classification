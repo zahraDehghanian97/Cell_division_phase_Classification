{
 "cells": [
  {
   "cell_type": "markdown",
   "metadata": {},
   "source": [
    "# Imports"
   ]
  },
  {
   "cell_type": "code",
   "execution_count": null,
   "metadata": {},
   "outputs": [],
   "source": [
    "import numpy as np\n",
    "import pandas as pd\n",
    "from sklearn import tree\n",
    "import matplotlib.pyplot as plt"
   ]
  },
  {
   "cell_type": "markdown",
   "metadata": {},
   "source": [
    "# Preprocess data\n",
    "\n",
    "1. Read \"BF_cells_on_grid.txt\" (Brighfield features) and \"SSC.txt\" (Darkfield features) as pandas Dataframe\n",
    "2. Based on the folders of each image determine the ground truth label for each image (feature vector)\n",
    "    + Use only 5 different classes. G1/G2/S as class 0, Prophase as class 1, Metaphase as class 2, Anaphase as class 3 and Telophase as class 4\n",
    "3. Only some of the columns are useful for classification. Only keep the useful ones.\n",
    "4. Concat brightfield and darkfield features and append the ground truth as the last column.\n",
    "5. After merging, delete all rows that contain any \"nan\" value.\n",
    "6. To make sure that you didn't make any mistake, check that the final dataframe must have 1007 rows and 214 columns. "
   ]
  },
  {
   "cell_type": "code",
   "execution_count": 24,
   "metadata": {},
   "outputs": [],
   "source": [
    "brf_exclude_cols = [0,1,3,4,7,17,19] + list(range(70,77))       # Exclude these columns from brightfield features\n",
    "daf_exclude_cols = list(range(0,50)) + list(range(70,77))       # Exclude these columns from darkfield features"
   ]
  },
  {
   "cell_type": "code",
   "execution_count": null,
   "metadata": {},
   "outputs": [],
   "source": [
    "# TODO"
   ]
  },
  {
   "cell_type": "markdown",
   "metadata": {},
   "source": [
    "# Fit a classifier\n",
    "\n",
    "1. Split the dataset into train/test.\n",
    "2. Fit a classifier on the train data.\n",
    "    + No need to implement any complex classifier. You can use the available classifiers in sklearn such as decision trees.\n",
    "3. Evaluate the model on the test set.\n",
    "4. Report accuracy and plot the confusion matrix."
   ]
  },
  {
   "cell_type": "code",
   "execution_count": null,
   "metadata": {},
   "outputs": [],
   "source": [
    "# TODO"
   ]
  }
 ],
 "metadata": {
  "kernelspec": {
   "display_name": "Python 3.7.9 ('mfi')",
   "language": "python",
   "name": "python3"
  },
  "language_info": {
   "codemirror_mode": {
    "name": "ipython",
    "version": 3
   },
   "file_extension": ".py",
   "mimetype": "text/x-python",
   "name": "python",
   "nbconvert_exporter": "python",
   "pygments_lexer": "ipython3",
   "version": "3.7.9"
  },
  "orig_nbformat": 4,
  "vscode": {
   "interpreter": {
    "hash": "2f506e5d3dc180bf9739ef8803defc0edb8424229ea0893793918f97f92b51bc"
   }
  }
 },
 "nbformat": 4,
 "nbformat_minor": 2
}
