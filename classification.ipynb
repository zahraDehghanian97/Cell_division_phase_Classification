{
  "cells": [
    {
      "cell_type": "markdown",
      "metadata": {
        "id": "view-in-github",
        "colab_type": "text"
      },
      "source": [
        "<a href=\"https://colab.research.google.com/github/zahraDehghanian97/classify_cell_division_phase/blob/master/classification.ipynb\" target=\"_parent\"><img src=\"https://colab.research.google.com/assets/colab-badge.svg\" alt=\"Open In Colab\"/></a>"
      ]
    },
    {
      "cell_type": "markdown",
      "metadata": {
        "id": "FVL6Fm4vRcGg"
      },
      "source": [
        "# Imports"
      ]
    },
    {
      "cell_type": "code",
      "execution_count": 58,
      "metadata": {
        "id": "BsPH6sbmRcGk"
      },
      "outputs": [],
      "source": [
        "import numpy as np\n",
        "import pandas as pd\n",
        "from sklearn import tree\n",
        "import matplotlib.pyplot as plt\n",
        "from sklearn.model_selection import train_test_split"
      ]
    },
    {
      "cell_type": "markdown",
      "metadata": {
        "id": "PrMM6iNPRcGm"
      },
      "source": [
        "# Preprocess data\n"
      ]
    },
    {
      "cell_type": "markdown",
      "source": [
        "1. Read \"BF_cells_on_grid.csv\" (Brighfield features) and \"SSC.csv\" (Darkfield features) as pandas Dataframe"
      ],
      "metadata": {
        "id": "KlqjgA0jPAGY"
      }
    },
    {
      "cell_type": "code",
      "source": [
        "url_bf = \"https://raw.githubusercontent.com/zahraDehghanian97/classify_cell_division_phase/master/BF_cells_on_grid.csv\"\n",
        "bf_df = pd.read_csv(url_bf,on_bad_lines='skip')\n",
        "url_df = \"https://raw.githubusercontent.com/zahraDehghanian97/classify_cell_division_phase/master/SSC.csv\"\n",
        "df_df = pd.read_csv(url_df,on_bad_lines='skip')"
      ],
      "metadata": {
        "id": "bWXjQb-_GYsQ"
      },
      "execution_count": 27,
      "outputs": []
    },
    {
      "cell_type": "code",
      "source": [
        "bf_df.head()"
      ],
      "metadata": {
        "id": "ZQSyN6EsNav_",
        "outputId": "6ba64629-2052-4671-ae81-e920b7be1b32",
        "colab": {
          "base_uri": "https://localhost:8080/",
          "height": 299
        }
      },
      "execution_count": 29,
      "outputs": [
        {
          "output_type": "execute_result",
          "data": {
            "text/plain": [
              "   ImageNumber  ObjectNumber  AreaShape_Area  AreaShape_Center_X  \\\n",
              "0            1             1          1148.0                27.0   \n",
              "1            1             2           824.0                25.0   \n",
              "2            1             3          1127.0                28.0   \n",
              "3            1             4          1006.0                28.0   \n",
              "4            1             5          1105.0                28.0   \n",
              "\n",
              "   AreaShape_Center_Y  AreaShape_Compactness  AreaShape_Eccentricity  \\\n",
              "0                28.0               1.001694                0.318706   \n",
              "1                84.0               1.027350                0.556030   \n",
              "2               138.0               1.005466                0.422347   \n",
              "3               189.0               1.030017                0.603568   \n",
              "4               245.0               1.019525                0.559239   \n",
              "\n",
              "   AreaShape_EulerNumber  AreaShape_Extent  AreaShape_FormFactor  ...  \\\n",
              "0                    1.0          0.795565              0.914040  ...   \n",
              "1                    1.0          0.715278              0.825853  ...   \n",
              "2                    1.0          0.802707              0.909265  ...   \n",
              "3                    1.0          0.806090              0.873266  ...   \n",
              "4                    1.0          0.770035              0.888068  ...   \n",
              "\n",
              "   Texture_SumEntropy_BF_image_3_45  Texture_SumEntropy_BF_image_3_90  \\\n",
              "0                          2.440405                          2.420252   \n",
              "1                          2.172302                          2.254057   \n",
              "2                          2.291793                          2.316845   \n",
              "3                          1.983694                          2.011501   \n",
              "4                          2.143550                          2.169470   \n",
              "\n",
              "   Texture_SumVariance_BF_image_3_0  Texture_SumVariance_BF_image_3_135  \\\n",
              "0                         11.998006                           10.126384   \n",
              "1                          5.339414                            5.786332   \n",
              "2                          8.077251                            7.391653   \n",
              "3                          4.003409                            3.714048   \n",
              "4                          5.858220                            5.238164   \n",
              "\n",
              "   Texture_SumVariance_BF_image_3_45  Texture_SumVariance_BF_image_3_90  \\\n",
              "0                          10.280260                          11.797080   \n",
              "1                           4.879558                           5.716457   \n",
              "2                           7.160918                           9.038275   \n",
              "3                           3.692521                           4.520115   \n",
              "4                           5.182886                           6.363456   \n",
              "\n",
              "   Texture_Variance_BF_image_3_0  Texture_Variance_BF_image_3_135  \\\n",
              "0                       3.677694                         4.195472   \n",
              "1                       2.244609                         2.615223   \n",
              "2                       2.770572                         3.173958   \n",
              "3                       1.572012                         1.782776   \n",
              "4                       1.959733                         2.253920   \n",
              "\n",
              "   Texture_Variance_BF_image_3_45  Texture_Variance_BF_image_3_90  \n",
              "0                        3.802830                        3.956518  \n",
              "1                        2.255126                        2.470824  \n",
              "2                        2.853978                        2.997233  \n",
              "3                        1.609564                        1.669106  \n",
              "4                        2.000566                        2.088864  \n",
              "\n",
              "[5 rows x 142 columns]"
            ],
            "text/html": [
              "\n",
              "  <div id=\"df-98962908-b165-45cc-b658-c3eed0a0acf2\">\n",
              "    <div class=\"colab-df-container\">\n",
              "      <div>\n",
              "<style scoped>\n",
              "    .dataframe tbody tr th:only-of-type {\n",
              "        vertical-align: middle;\n",
              "    }\n",
              "\n",
              "    .dataframe tbody tr th {\n",
              "        vertical-align: top;\n",
              "    }\n",
              "\n",
              "    .dataframe thead th {\n",
              "        text-align: right;\n",
              "    }\n",
              "</style>\n",
              "<table border=\"1\" class=\"dataframe\">\n",
              "  <thead>\n",
              "    <tr style=\"text-align: right;\">\n",
              "      <th></th>\n",
              "      <th>ImageNumber</th>\n",
              "      <th>ObjectNumber</th>\n",
              "      <th>AreaShape_Area</th>\n",
              "      <th>AreaShape_Center_X</th>\n",
              "      <th>AreaShape_Center_Y</th>\n",
              "      <th>AreaShape_Compactness</th>\n",
              "      <th>AreaShape_Eccentricity</th>\n",
              "      <th>AreaShape_EulerNumber</th>\n",
              "      <th>AreaShape_Extent</th>\n",
              "      <th>AreaShape_FormFactor</th>\n",
              "      <th>...</th>\n",
              "      <th>Texture_SumEntropy_BF_image_3_45</th>\n",
              "      <th>Texture_SumEntropy_BF_image_3_90</th>\n",
              "      <th>Texture_SumVariance_BF_image_3_0</th>\n",
              "      <th>Texture_SumVariance_BF_image_3_135</th>\n",
              "      <th>Texture_SumVariance_BF_image_3_45</th>\n",
              "      <th>Texture_SumVariance_BF_image_3_90</th>\n",
              "      <th>Texture_Variance_BF_image_3_0</th>\n",
              "      <th>Texture_Variance_BF_image_3_135</th>\n",
              "      <th>Texture_Variance_BF_image_3_45</th>\n",
              "      <th>Texture_Variance_BF_image_3_90</th>\n",
              "    </tr>\n",
              "  </thead>\n",
              "  <tbody>\n",
              "    <tr>\n",
              "      <th>0</th>\n",
              "      <td>1</td>\n",
              "      <td>1</td>\n",
              "      <td>1148.0</td>\n",
              "      <td>27.0</td>\n",
              "      <td>28.0</td>\n",
              "      <td>1.001694</td>\n",
              "      <td>0.318706</td>\n",
              "      <td>1.0</td>\n",
              "      <td>0.795565</td>\n",
              "      <td>0.914040</td>\n",
              "      <td>...</td>\n",
              "      <td>2.440405</td>\n",
              "      <td>2.420252</td>\n",
              "      <td>11.998006</td>\n",
              "      <td>10.126384</td>\n",
              "      <td>10.280260</td>\n",
              "      <td>11.797080</td>\n",
              "      <td>3.677694</td>\n",
              "      <td>4.195472</td>\n",
              "      <td>3.802830</td>\n",
              "      <td>3.956518</td>\n",
              "    </tr>\n",
              "    <tr>\n",
              "      <th>1</th>\n",
              "      <td>1</td>\n",
              "      <td>2</td>\n",
              "      <td>824.0</td>\n",
              "      <td>25.0</td>\n",
              "      <td>84.0</td>\n",
              "      <td>1.027350</td>\n",
              "      <td>0.556030</td>\n",
              "      <td>1.0</td>\n",
              "      <td>0.715278</td>\n",
              "      <td>0.825853</td>\n",
              "      <td>...</td>\n",
              "      <td>2.172302</td>\n",
              "      <td>2.254057</td>\n",
              "      <td>5.339414</td>\n",
              "      <td>5.786332</td>\n",
              "      <td>4.879558</td>\n",
              "      <td>5.716457</td>\n",
              "      <td>2.244609</td>\n",
              "      <td>2.615223</td>\n",
              "      <td>2.255126</td>\n",
              "      <td>2.470824</td>\n",
              "    </tr>\n",
              "    <tr>\n",
              "      <th>2</th>\n",
              "      <td>1</td>\n",
              "      <td>3</td>\n",
              "      <td>1127.0</td>\n",
              "      <td>28.0</td>\n",
              "      <td>138.0</td>\n",
              "      <td>1.005466</td>\n",
              "      <td>0.422347</td>\n",
              "      <td>1.0</td>\n",
              "      <td>0.802707</td>\n",
              "      <td>0.909265</td>\n",
              "      <td>...</td>\n",
              "      <td>2.291793</td>\n",
              "      <td>2.316845</td>\n",
              "      <td>8.077251</td>\n",
              "      <td>7.391653</td>\n",
              "      <td>7.160918</td>\n",
              "      <td>9.038275</td>\n",
              "      <td>2.770572</td>\n",
              "      <td>3.173958</td>\n",
              "      <td>2.853978</td>\n",
              "      <td>2.997233</td>\n",
              "    </tr>\n",
              "    <tr>\n",
              "      <th>3</th>\n",
              "      <td>1</td>\n",
              "      <td>4</td>\n",
              "      <td>1006.0</td>\n",
              "      <td>28.0</td>\n",
              "      <td>189.0</td>\n",
              "      <td>1.030017</td>\n",
              "      <td>0.603568</td>\n",
              "      <td>1.0</td>\n",
              "      <td>0.806090</td>\n",
              "      <td>0.873266</td>\n",
              "      <td>...</td>\n",
              "      <td>1.983694</td>\n",
              "      <td>2.011501</td>\n",
              "      <td>4.003409</td>\n",
              "      <td>3.714048</td>\n",
              "      <td>3.692521</td>\n",
              "      <td>4.520115</td>\n",
              "      <td>1.572012</td>\n",
              "      <td>1.782776</td>\n",
              "      <td>1.609564</td>\n",
              "      <td>1.669106</td>\n",
              "    </tr>\n",
              "    <tr>\n",
              "      <th>4</th>\n",
              "      <td>1</td>\n",
              "      <td>5</td>\n",
              "      <td>1105.0</td>\n",
              "      <td>28.0</td>\n",
              "      <td>245.0</td>\n",
              "      <td>1.019525</td>\n",
              "      <td>0.559239</td>\n",
              "      <td>1.0</td>\n",
              "      <td>0.770035</td>\n",
              "      <td>0.888068</td>\n",
              "      <td>...</td>\n",
              "      <td>2.143550</td>\n",
              "      <td>2.169470</td>\n",
              "      <td>5.858220</td>\n",
              "      <td>5.238164</td>\n",
              "      <td>5.182886</td>\n",
              "      <td>6.363456</td>\n",
              "      <td>1.959733</td>\n",
              "      <td>2.253920</td>\n",
              "      <td>2.000566</td>\n",
              "      <td>2.088864</td>\n",
              "    </tr>\n",
              "  </tbody>\n",
              "</table>\n",
              "<p>5 rows × 142 columns</p>\n",
              "</div>\n",
              "      <button class=\"colab-df-convert\" onclick=\"convertToInteractive('df-98962908-b165-45cc-b658-c3eed0a0acf2')\"\n",
              "              title=\"Convert this dataframe to an interactive table.\"\n",
              "              style=\"display:none;\">\n",
              "        \n",
              "  <svg xmlns=\"http://www.w3.org/2000/svg\" height=\"24px\"viewBox=\"0 0 24 24\"\n",
              "       width=\"24px\">\n",
              "    <path d=\"M0 0h24v24H0V0z\" fill=\"none\"/>\n",
              "    <path d=\"M18.56 5.44l.94 2.06.94-2.06 2.06-.94-2.06-.94-.94-2.06-.94 2.06-2.06.94zm-11 1L8.5 8.5l.94-2.06 2.06-.94-2.06-.94L8.5 2.5l-.94 2.06-2.06.94zm10 10l.94 2.06.94-2.06 2.06-.94-2.06-.94-.94-2.06-.94 2.06-2.06.94z\"/><path d=\"M17.41 7.96l-1.37-1.37c-.4-.4-.92-.59-1.43-.59-.52 0-1.04.2-1.43.59L10.3 9.45l-7.72 7.72c-.78.78-.78 2.05 0 2.83L4 21.41c.39.39.9.59 1.41.59.51 0 1.02-.2 1.41-.59l7.78-7.78 2.81-2.81c.8-.78.8-2.07 0-2.86zM5.41 20L4 18.59l7.72-7.72 1.47 1.35L5.41 20z\"/>\n",
              "  </svg>\n",
              "      </button>\n",
              "      \n",
              "  <style>\n",
              "    .colab-df-container {\n",
              "      display:flex;\n",
              "      flex-wrap:wrap;\n",
              "      gap: 12px;\n",
              "    }\n",
              "\n",
              "    .colab-df-convert {\n",
              "      background-color: #E8F0FE;\n",
              "      border: none;\n",
              "      border-radius: 50%;\n",
              "      cursor: pointer;\n",
              "      display: none;\n",
              "      fill: #1967D2;\n",
              "      height: 32px;\n",
              "      padding: 0 0 0 0;\n",
              "      width: 32px;\n",
              "    }\n",
              "\n",
              "    .colab-df-convert:hover {\n",
              "      background-color: #E2EBFA;\n",
              "      box-shadow: 0px 1px 2px rgba(60, 64, 67, 0.3), 0px 1px 3px 1px rgba(60, 64, 67, 0.15);\n",
              "      fill: #174EA6;\n",
              "    }\n",
              "\n",
              "    [theme=dark] .colab-df-convert {\n",
              "      background-color: #3B4455;\n",
              "      fill: #D2E3FC;\n",
              "    }\n",
              "\n",
              "    [theme=dark] .colab-df-convert:hover {\n",
              "      background-color: #434B5C;\n",
              "      box-shadow: 0px 1px 3px 1px rgba(0, 0, 0, 0.15);\n",
              "      filter: drop-shadow(0px 1px 2px rgba(0, 0, 0, 0.3));\n",
              "      fill: #FFFFFF;\n",
              "    }\n",
              "  </style>\n",
              "\n",
              "      <script>\n",
              "        const buttonEl =\n",
              "          document.querySelector('#df-98962908-b165-45cc-b658-c3eed0a0acf2 button.colab-df-convert');\n",
              "        buttonEl.style.display =\n",
              "          google.colab.kernel.accessAllowed ? 'block' : 'none';\n",
              "\n",
              "        async function convertToInteractive(key) {\n",
              "          const element = document.querySelector('#df-98962908-b165-45cc-b658-c3eed0a0acf2');\n",
              "          const dataTable =\n",
              "            await google.colab.kernel.invokeFunction('convertToInteractive',\n",
              "                                                     [key], {});\n",
              "          if (!dataTable) return;\n",
              "\n",
              "          const docLinkHtml = 'Like what you see? Visit the ' +\n",
              "            '<a target=\"_blank\" href=https://colab.research.google.com/notebooks/data_table.ipynb>data table notebook</a>'\n",
              "            + ' to learn more about interactive tables.';\n",
              "          element.innerHTML = '';\n",
              "          dataTable['output_type'] = 'display_data';\n",
              "          await google.colab.output.renderOutput(dataTable, element);\n",
              "          const docLink = document.createElement('div');\n",
              "          docLink.innerHTML = docLinkHtml;\n",
              "          element.appendChild(docLink);\n",
              "        }\n",
              "      </script>\n",
              "    </div>\n",
              "  </div>\n",
              "  "
            ]
          },
          "metadata": {},
          "execution_count": 29
        }
      ]
    },
    {
      "cell_type": "markdown",
      "source": [
        "\n",
        "2. Based on the folders of each image determine the ground truth label for each image (feature vector)\n",
        "    + Use only 5 different classes. G1/G2/S as class 0, Prophase as class 1, Metaphase as class 2, Anaphase as class 3 and Telophase as class 4"
      ],
      "metadata": {
        "id": "U28dSqmHPCvn"
      }
    },
    {
      "cell_type": "code",
      "source": [
        "dict_label = {1: 3, 2: 0, 3:0,4:2 , 5:1 , 6:0 , 7: 4 }\n",
        "ground_truth = []\n",
        "for index in range(len(bf_df[\"ImageNumber\"])):\n",
        "  ground_truth.append(dict_label[int(bf_df[\"ImageNumber\"][index])])\n",
        "ground_truth[:10]"
      ],
      "metadata": {
        "id": "nu4tMuNlMW0k",
        "outputId": "49fdc69a-fabf-420a-c01c-7b8376a346c1",
        "colab": {
          "base_uri": "https://localhost:8080/"
        }
      },
      "execution_count": 34,
      "outputs": [
        {
          "output_type": "execute_result",
          "data": {
            "text/plain": [
              "[3, 3, 3, 3, 3, 3, 3, 3, 3, 3]"
            ]
          },
          "metadata": {},
          "execution_count": 34
        }
      ]
    },
    {
      "cell_type": "markdown",
      "source": [
        "\n",
        "\n",
        "3. Only some of the columns are useful for classification. Only keep the useful ones."
      ],
      "metadata": {
        "id": "3m2d0hiiPjK1"
      }
    },
    {
      "cell_type": "code",
      "execution_count": 36,
      "metadata": {
        "id": "4MSCgnuPRcGn",
        "outputId": "57263afd-c84a-41da-a4ac-231106426a15",
        "colab": {
          "base_uri": "https://localhost:8080/",
          "height": 299
        }
      },
      "outputs": [
        {
          "output_type": "execute_result",
          "data": {
            "text/plain": [
              "   AreaShape_Area  AreaShape_Compactness  AreaShape_Eccentricity  \\\n",
              "0          1148.0               1.001694                0.318706   \n",
              "1           824.0               1.027350                0.556030   \n",
              "2          1127.0               1.005466                0.422347   \n",
              "3          1006.0               1.030017                0.603568   \n",
              "4          1105.0               1.019525                0.559239   \n",
              "\n",
              "   AreaShape_Extent  AreaShape_FormFactor  AreaShape_MajorAxisLength  \\\n",
              "0          0.795565              0.914040                  39.273869   \n",
              "1          0.715278              0.825853                  35.719758   \n",
              "2          0.802707              0.909265                  39.800233   \n",
              "3          0.806090              0.873266                  40.168129   \n",
              "4          0.770035              0.888068                  41.234333   \n",
              "\n",
              "   AreaShape_MaxFeretDiameter  AreaShape_MaximumRadius  AreaShape_MeanRadius  \\\n",
              "0                   39.051248                18.681542              6.623417   \n",
              "1                   35.355339                14.317821              5.423662   \n",
              "2                   39.293765                18.000000              6.545845   \n",
              "3                   38.832976                15.524175              6.037000   \n",
              "4                   40.199502                16.492423              6.366687   \n",
              "\n",
              "   AreaShape_MedianRadius  ...  Texture_SumEntropy_BF_image_3_45  \\\n",
              "0                5.830952  ...                          2.440405   \n",
              "1                5.000000  ...                          2.172302   \n",
              "2                5.830952  ...                          2.291793   \n",
              "3                5.385165  ...                          1.983694   \n",
              "4                5.656854  ...                          2.143550   \n",
              "\n",
              "   Texture_SumEntropy_BF_image_3_90  Texture_SumVariance_BF_image_3_0  \\\n",
              "0                          2.420252                         11.998006   \n",
              "1                          2.254057                          5.339414   \n",
              "2                          2.316845                          8.077251   \n",
              "3                          2.011501                          4.003409   \n",
              "4                          2.169470                          5.858220   \n",
              "\n",
              "   Texture_SumVariance_BF_image_3_135  Texture_SumVariance_BF_image_3_45  \\\n",
              "0                           10.126384                          10.280260   \n",
              "1                            5.786332                           4.879558   \n",
              "2                            7.391653                           7.160918   \n",
              "3                            3.714048                           3.692521   \n",
              "4                            5.238164                           5.182886   \n",
              "\n",
              "   Texture_SumVariance_BF_image_3_90  Texture_Variance_BF_image_3_0  \\\n",
              "0                          11.797080                       3.677694   \n",
              "1                           5.716457                       2.244609   \n",
              "2                           9.038275                       2.770572   \n",
              "3                           4.520115                       1.572012   \n",
              "4                           6.363456                       1.959733   \n",
              "\n",
              "   Texture_Variance_BF_image_3_135  Texture_Variance_BF_image_3_45  \\\n",
              "0                         4.195472                        3.802830   \n",
              "1                         2.615223                        2.255126   \n",
              "2                         3.173958                        2.853978   \n",
              "3                         1.782776                        1.609564   \n",
              "4                         2.253920                        2.000566   \n",
              "\n",
              "   Texture_Variance_BF_image_3_90  \n",
              "0                        3.956518  \n",
              "1                        2.470824  \n",
              "2                        2.997233  \n",
              "3                        1.669106  \n",
              "4                        2.088864  \n",
              "\n",
              "[5 rows x 128 columns]"
            ],
            "text/html": [
              "\n",
              "  <div id=\"df-e6f8046c-5f52-40b1-a907-46a7a0a5fe70\">\n",
              "    <div class=\"colab-df-container\">\n",
              "      <div>\n",
              "<style scoped>\n",
              "    .dataframe tbody tr th:only-of-type {\n",
              "        vertical-align: middle;\n",
              "    }\n",
              "\n",
              "    .dataframe tbody tr th {\n",
              "        vertical-align: top;\n",
              "    }\n",
              "\n",
              "    .dataframe thead th {\n",
              "        text-align: right;\n",
              "    }\n",
              "</style>\n",
              "<table border=\"1\" class=\"dataframe\">\n",
              "  <thead>\n",
              "    <tr style=\"text-align: right;\">\n",
              "      <th></th>\n",
              "      <th>AreaShape_Area</th>\n",
              "      <th>AreaShape_Compactness</th>\n",
              "      <th>AreaShape_Eccentricity</th>\n",
              "      <th>AreaShape_Extent</th>\n",
              "      <th>AreaShape_FormFactor</th>\n",
              "      <th>AreaShape_MajorAxisLength</th>\n",
              "      <th>AreaShape_MaxFeretDiameter</th>\n",
              "      <th>AreaShape_MaximumRadius</th>\n",
              "      <th>AreaShape_MeanRadius</th>\n",
              "      <th>AreaShape_MedianRadius</th>\n",
              "      <th>...</th>\n",
              "      <th>Texture_SumEntropy_BF_image_3_45</th>\n",
              "      <th>Texture_SumEntropy_BF_image_3_90</th>\n",
              "      <th>Texture_SumVariance_BF_image_3_0</th>\n",
              "      <th>Texture_SumVariance_BF_image_3_135</th>\n",
              "      <th>Texture_SumVariance_BF_image_3_45</th>\n",
              "      <th>Texture_SumVariance_BF_image_3_90</th>\n",
              "      <th>Texture_Variance_BF_image_3_0</th>\n",
              "      <th>Texture_Variance_BF_image_3_135</th>\n",
              "      <th>Texture_Variance_BF_image_3_45</th>\n",
              "      <th>Texture_Variance_BF_image_3_90</th>\n",
              "    </tr>\n",
              "  </thead>\n",
              "  <tbody>\n",
              "    <tr>\n",
              "      <th>0</th>\n",
              "      <td>1148.0</td>\n",
              "      <td>1.001694</td>\n",
              "      <td>0.318706</td>\n",
              "      <td>0.795565</td>\n",
              "      <td>0.914040</td>\n",
              "      <td>39.273869</td>\n",
              "      <td>39.051248</td>\n",
              "      <td>18.681542</td>\n",
              "      <td>6.623417</td>\n",
              "      <td>5.830952</td>\n",
              "      <td>...</td>\n",
              "      <td>2.440405</td>\n",
              "      <td>2.420252</td>\n",
              "      <td>11.998006</td>\n",
              "      <td>10.126384</td>\n",
              "      <td>10.280260</td>\n",
              "      <td>11.797080</td>\n",
              "      <td>3.677694</td>\n",
              "      <td>4.195472</td>\n",
              "      <td>3.802830</td>\n",
              "      <td>3.956518</td>\n",
              "    </tr>\n",
              "    <tr>\n",
              "      <th>1</th>\n",
              "      <td>824.0</td>\n",
              "      <td>1.027350</td>\n",
              "      <td>0.556030</td>\n",
              "      <td>0.715278</td>\n",
              "      <td>0.825853</td>\n",
              "      <td>35.719758</td>\n",
              "      <td>35.355339</td>\n",
              "      <td>14.317821</td>\n",
              "      <td>5.423662</td>\n",
              "      <td>5.000000</td>\n",
              "      <td>...</td>\n",
              "      <td>2.172302</td>\n",
              "      <td>2.254057</td>\n",
              "      <td>5.339414</td>\n",
              "      <td>5.786332</td>\n",
              "      <td>4.879558</td>\n",
              "      <td>5.716457</td>\n",
              "      <td>2.244609</td>\n",
              "      <td>2.615223</td>\n",
              "      <td>2.255126</td>\n",
              "      <td>2.470824</td>\n",
              "    </tr>\n",
              "    <tr>\n",
              "      <th>2</th>\n",
              "      <td>1127.0</td>\n",
              "      <td>1.005466</td>\n",
              "      <td>0.422347</td>\n",
              "      <td>0.802707</td>\n",
              "      <td>0.909265</td>\n",
              "      <td>39.800233</td>\n",
              "      <td>39.293765</td>\n",
              "      <td>18.000000</td>\n",
              "      <td>6.545845</td>\n",
              "      <td>5.830952</td>\n",
              "      <td>...</td>\n",
              "      <td>2.291793</td>\n",
              "      <td>2.316845</td>\n",
              "      <td>8.077251</td>\n",
              "      <td>7.391653</td>\n",
              "      <td>7.160918</td>\n",
              "      <td>9.038275</td>\n",
              "      <td>2.770572</td>\n",
              "      <td>3.173958</td>\n",
              "      <td>2.853978</td>\n",
              "      <td>2.997233</td>\n",
              "    </tr>\n",
              "    <tr>\n",
              "      <th>3</th>\n",
              "      <td>1006.0</td>\n",
              "      <td>1.030017</td>\n",
              "      <td>0.603568</td>\n",
              "      <td>0.806090</td>\n",
              "      <td>0.873266</td>\n",
              "      <td>40.168129</td>\n",
              "      <td>38.832976</td>\n",
              "      <td>15.524175</td>\n",
              "      <td>6.037000</td>\n",
              "      <td>5.385165</td>\n",
              "      <td>...</td>\n",
              "      <td>1.983694</td>\n",
              "      <td>2.011501</td>\n",
              "      <td>4.003409</td>\n",
              "      <td>3.714048</td>\n",
              "      <td>3.692521</td>\n",
              "      <td>4.520115</td>\n",
              "      <td>1.572012</td>\n",
              "      <td>1.782776</td>\n",
              "      <td>1.609564</td>\n",
              "      <td>1.669106</td>\n",
              "    </tr>\n",
              "    <tr>\n",
              "      <th>4</th>\n",
              "      <td>1105.0</td>\n",
              "      <td>1.019525</td>\n",
              "      <td>0.559239</td>\n",
              "      <td>0.770035</td>\n",
              "      <td>0.888068</td>\n",
              "      <td>41.234333</td>\n",
              "      <td>40.199502</td>\n",
              "      <td>16.492423</td>\n",
              "      <td>6.366687</td>\n",
              "      <td>5.656854</td>\n",
              "      <td>...</td>\n",
              "      <td>2.143550</td>\n",
              "      <td>2.169470</td>\n",
              "      <td>5.858220</td>\n",
              "      <td>5.238164</td>\n",
              "      <td>5.182886</td>\n",
              "      <td>6.363456</td>\n",
              "      <td>1.959733</td>\n",
              "      <td>2.253920</td>\n",
              "      <td>2.000566</td>\n",
              "      <td>2.088864</td>\n",
              "    </tr>\n",
              "  </tbody>\n",
              "</table>\n",
              "<p>5 rows × 128 columns</p>\n",
              "</div>\n",
              "      <button class=\"colab-df-convert\" onclick=\"convertToInteractive('df-e6f8046c-5f52-40b1-a907-46a7a0a5fe70')\"\n",
              "              title=\"Convert this dataframe to an interactive table.\"\n",
              "              style=\"display:none;\">\n",
              "        \n",
              "  <svg xmlns=\"http://www.w3.org/2000/svg\" height=\"24px\"viewBox=\"0 0 24 24\"\n",
              "       width=\"24px\">\n",
              "    <path d=\"M0 0h24v24H0V0z\" fill=\"none\"/>\n",
              "    <path d=\"M18.56 5.44l.94 2.06.94-2.06 2.06-.94-2.06-.94-.94-2.06-.94 2.06-2.06.94zm-11 1L8.5 8.5l.94-2.06 2.06-.94-2.06-.94L8.5 2.5l-.94 2.06-2.06.94zm10 10l.94 2.06.94-2.06 2.06-.94-2.06-.94-.94-2.06-.94 2.06-2.06.94z\"/><path d=\"M17.41 7.96l-1.37-1.37c-.4-.4-.92-.59-1.43-.59-.52 0-1.04.2-1.43.59L10.3 9.45l-7.72 7.72c-.78.78-.78 2.05 0 2.83L4 21.41c.39.39.9.59 1.41.59.51 0 1.02-.2 1.41-.59l7.78-7.78 2.81-2.81c.8-.78.8-2.07 0-2.86zM5.41 20L4 18.59l7.72-7.72 1.47 1.35L5.41 20z\"/>\n",
              "  </svg>\n",
              "      </button>\n",
              "      \n",
              "  <style>\n",
              "    .colab-df-container {\n",
              "      display:flex;\n",
              "      flex-wrap:wrap;\n",
              "      gap: 12px;\n",
              "    }\n",
              "\n",
              "    .colab-df-convert {\n",
              "      background-color: #E8F0FE;\n",
              "      border: none;\n",
              "      border-radius: 50%;\n",
              "      cursor: pointer;\n",
              "      display: none;\n",
              "      fill: #1967D2;\n",
              "      height: 32px;\n",
              "      padding: 0 0 0 0;\n",
              "      width: 32px;\n",
              "    }\n",
              "\n",
              "    .colab-df-convert:hover {\n",
              "      background-color: #E2EBFA;\n",
              "      box-shadow: 0px 1px 2px rgba(60, 64, 67, 0.3), 0px 1px 3px 1px rgba(60, 64, 67, 0.15);\n",
              "      fill: #174EA6;\n",
              "    }\n",
              "\n",
              "    [theme=dark] .colab-df-convert {\n",
              "      background-color: #3B4455;\n",
              "      fill: #D2E3FC;\n",
              "    }\n",
              "\n",
              "    [theme=dark] .colab-df-convert:hover {\n",
              "      background-color: #434B5C;\n",
              "      box-shadow: 0px 1px 3px 1px rgba(0, 0, 0, 0.15);\n",
              "      filter: drop-shadow(0px 1px 2px rgba(0, 0, 0, 0.3));\n",
              "      fill: #FFFFFF;\n",
              "    }\n",
              "  </style>\n",
              "\n",
              "      <script>\n",
              "        const buttonEl =\n",
              "          document.querySelector('#df-e6f8046c-5f52-40b1-a907-46a7a0a5fe70 button.colab-df-convert');\n",
              "        buttonEl.style.display =\n",
              "          google.colab.kernel.accessAllowed ? 'block' : 'none';\n",
              "\n",
              "        async function convertToInteractive(key) {\n",
              "          const element = document.querySelector('#df-e6f8046c-5f52-40b1-a907-46a7a0a5fe70');\n",
              "          const dataTable =\n",
              "            await google.colab.kernel.invokeFunction('convertToInteractive',\n",
              "                                                     [key], {});\n",
              "          if (!dataTable) return;\n",
              "\n",
              "          const docLinkHtml = 'Like what you see? Visit the ' +\n",
              "            '<a target=\"_blank\" href=https://colab.research.google.com/notebooks/data_table.ipynb>data table notebook</a>'\n",
              "            + ' to learn more about interactive tables.';\n",
              "          element.innerHTML = '';\n",
              "          dataTable['output_type'] = 'display_data';\n",
              "          await google.colab.output.renderOutput(dataTable, element);\n",
              "          const docLink = document.createElement('div');\n",
              "          docLink.innerHTML = docLinkHtml;\n",
              "          element.appendChild(docLink);\n",
              "        }\n",
              "      </script>\n",
              "    </div>\n",
              "  </div>\n",
              "  "
            ]
          },
          "metadata": {},
          "execution_count": 36
        }
      ],
      "source": [
        "brf_exclude_cols = [0,1,3,4,7,17,19] + list(range(70,77))       # Exclude these columns from brightfield features\n",
        "daf_exclude_cols = list(range(0,50)) + list(range(70,77))       # Exclude these columns from darkfield features\n",
        "bf_df.drop(bf_df.columns[brf_exclude_cols],axis=1,inplace=True)\n",
        "df_df.drop(df_df.columns[daf_exclude_cols],axis=1,inplace=True)\n",
        "bf_df.head()"
      ]
    },
    {
      "cell_type": "code",
      "source": [
        "print((bf_df.shape))\n",
        "print((df_df.shape))"
      ],
      "metadata": {
        "id": "pxBdweKKQbY7",
        "outputId": "4ca1b1bf-ee65-483b-991b-0f540833b2c6",
        "colab": {
          "base_uri": "https://localhost:8080/"
        }
      },
      "execution_count": 37,
      "outputs": [
        {
          "output_type": "stream",
          "name": "stdout",
          "text": [
            "(1575, 128)\n",
            "(1575, 85)\n"
          ]
        }
      ]
    },
    {
      "cell_type": "markdown",
      "source": [
        "\n",
        "4. Concat brightfield and darkfield features and append the ground truth as the last column."
      ],
      "metadata": {
        "id": "c6DN-tEWS6lL"
      }
    },
    {
      "cell_type": "code",
      "execution_count": 57,
      "metadata": {
        "id": "SH3D0fJ1RcGo"
      },
      "outputs": [],
      "source": [
        "feature_df = bf_df.join(df_df, lsuffix=\"b\")\n",
        "label_df = pd.DataFrame(ground_truth,columns=[\"label\"])\n",
        "df = feature_df.join(label_df)\n"
      ]
    },
    {
      "cell_type": "markdown",
      "source": [
        "\n",
        "5. After merging, delete all rows that contain any \"nan\" value.\n"
      ],
      "metadata": {
        "id": "ooEpi-aoZ_3g"
      }
    },
    {
      "cell_type": "code",
      "source": [
        "df=df.dropna() "
      ],
      "metadata": {
        "id": "GzcGLV2qaGEJ"
      },
      "execution_count": 64,
      "outputs": []
    },
    {
      "cell_type": "markdown",
      "source": [
        "6. To make sure that you didn't make any mistake, check that the final dataframe must have 1007 rows and 214 columns. "
      ],
      "metadata": {
        "id": "UY7ftqKmaMRx"
      }
    },
    {
      "cell_type": "code",
      "source": [
        "df.reset_index(drop= True,inplace=True)\n",
        "print(df.shape)\n",
        "df.info()"
      ],
      "metadata": {
        "id": "QfffU0xgaJTA",
        "outputId": "149fbfd4-92de-4c63-a0fb-1d62ff4506e2",
        "colab": {
          "base_uri": "https://localhost:8080/"
        }
      },
      "execution_count": 65,
      "outputs": [
        {
          "output_type": "stream",
          "name": "stdout",
          "text": [
            "(1008, 214)\n",
            "<class 'pandas.core.frame.DataFrame'>\n",
            "RangeIndex: 1008 entries, 0 to 1007\n",
            "Columns: 214 entries, AreaShape_Area to label\n",
            "dtypes: float64(213), int64(1)\n",
            "memory usage: 1.6 MB\n"
          ]
        }
      ]
    },
    {
      "cell_type": "markdown",
      "metadata": {
        "id": "ov4jQ31sRcGo"
      },
      "source": [
        "# Fit a classifier\n"
      ]
    },
    {
      "cell_type": "markdown",
      "source": [
        "\n",
        "1. Split the dataset into train/test."
      ],
      "metadata": {
        "id": "_4JNSdNVaU_8"
      }
    },
    {
      "cell_type": "code",
      "execution_count": 66,
      "metadata": {
        "id": "r-ITAjQuRcGo"
      },
      "outputs": [],
      "source": [
        "X = df.drop('label',axis=1)\n",
        "y = df[['label']]\n",
        "X_train, X_test, y_train, y_test = train_test_split(X, y, test_size = 0.3,random_state=42)"
      ]
    },
    {
      "cell_type": "markdown",
      "source": [
        "\n",
        "2. Fit a classifier on the train data.\n",
        "    + No need to implement any complex classifier. You can use the available classifiers in sklearn such as decision trees."
      ],
      "metadata": {
        "id": "pE2vNahFawUq"
      }
    },
    {
      "cell_type": "code",
      "source": [
        "from sklearn.tree import DecisionTreeClassifier\n",
        "clf_model = DecisionTreeClassifier(criterion=\"gini\", random_state=42,max_depth=8, min_samples_leaf=5)   \n",
        "clf_model.fit(X_train,y_train)"
      ],
      "metadata": {
        "id": "yno4PeNDaxMu",
        "outputId": "bb854b2a-92eb-45c5-e8ae-11dd9fd10245",
        "colab": {
          "base_uri": "https://localhost:8080/"
        }
      },
      "execution_count": 67,
      "outputs": [
        {
          "output_type": "execute_result",
          "data": {
            "text/plain": [
              "DecisionTreeClassifier(max_depth=8, min_samples_leaf=5, random_state=42)"
            ]
          },
          "metadata": {},
          "execution_count": 67
        }
      ]
    },
    {
      "cell_type": "markdown",
      "source": [
        "\n",
        "3. Evaluate the model on the test set."
      ],
      "metadata": {
        "id": "M6VUy64WcsYo"
      }
    },
    {
      "cell_type": "code",
      "source": [
        "y_predict = clf_model.predict(X_test)"
      ],
      "metadata": {
        "id": "CcimJ1yEb6Qa"
      },
      "execution_count": 68,
      "outputs": []
    },
    {
      "cell_type": "markdown",
      "source": [
        "\n",
        "4. Report accuracy and plot the confusion matrix."
      ],
      "metadata": {
        "id": "0FMmzW-XcwUZ"
      }
    },
    {
      "cell_type": "code",
      "source": [
        "from sklearn.metrics import accuracy_score,classification_report,confusion_matrix\n",
        "accuracy_score(y_test,y_predict)"
      ],
      "metadata": {
        "id": "h5sfhGgxb_p7",
        "outputId": "733f313e-eaf5-4cfb-a601-e2f73f0b65e0",
        "colab": {
          "base_uri": "https://localhost:8080/"
        }
      },
      "execution_count": 69,
      "outputs": [
        {
          "output_type": "execute_result",
          "data": {
            "text/plain": [
              "0.7326732673267327"
            ]
          },
          "metadata": {},
          "execution_count": 69
        }
      ]
    },
    {
      "cell_type": "code",
      "source": [
        "confusion_matrix(y_test,y_predict)"
      ],
      "metadata": {
        "id": "MVvYRJMXc0VS",
        "outputId": "c4372653-a9f9-487d-8999-63dec27122e0",
        "colab": {
          "base_uri": "https://localhost:8080/"
        }
      },
      "execution_count": 70,
      "outputs": [
        {
          "output_type": "execute_result",
          "data": {
            "text/plain": [
              "array([[180,  21,   0,   0,   0],\n",
              "       [ 33,  30,   0,   0,   0],\n",
              "       [ 10,  10,   2,   3,   1],\n",
              "       [  1,   1,   0,   4,   0],\n",
              "       [  1,   0,   0,   0,   6]])"
            ]
          },
          "metadata": {},
          "execution_count": 70
        }
      ]
    },
    {
      "cell_type": "markdown",
      "source": [
        "show tree"
      ],
      "metadata": {
        "id": "8XfA4DMoc9pJ"
      }
    },
    {
      "cell_type": "code",
      "source": [
        "target = list(df['label'].unique())\n",
        "t = []\n",
        "for i in target: t.append(str(i))\n",
        "target = t\n",
        "feature_names = list(X.columns)\n",
        "from sklearn import tree\n",
        "import graphviz\n",
        "dot_data = tree.export_graphviz(clf_model,\n",
        "                                out_file=None, \n",
        "                      feature_names=feature_names,  \n",
        "                      class_names=target,  \n",
        "                      filled=True, rounded=True,  \n",
        "                      special_characters=True)  \n",
        "graph = graphviz.Source(dot_data)  \n",
        "graph"
      ],
      "metadata": {
        "id": "GGjY0z5lcGRU",
        "outputId": "09f39f17-5070-4861-edba-adbf68c5db7c",
        "colab": {
          "base_uri": "https://localhost:8080/",
          "height": 1000
        }
      },
      "execution_count": 75,
      "outputs": [
        {
          "output_type": "execute_result",
          "data": {
            "text/plain": [
              "<graphviz.files.Source at 0x7f6d0604f3a0>"
            ],
            "image/svg+xml": "<?xml version=\"1.0\" encoding=\"UTF-8\" standalone=\"no\"?>\n<!DOCTYPE svg PUBLIC \"-//W3C//DTD SVG 1.1//EN\"\n \"http://www.w3.org/Graphics/SVG/1.1/DTD/svg11.dtd\">\n<!-- Generated by graphviz version 2.40.1 (20161225.0304)\n -->\n<!-- Title: Tree Pages: 1 -->\n<svg width=\"3843pt\" height=\"1028pt\"\n viewBox=\"0.00 0.00 3843.00 1028.00\" xmlns=\"http://www.w3.org/2000/svg\" xmlns:xlink=\"http://www.w3.org/1999/xlink\">\n<g id=\"graph0\" class=\"graph\" transform=\"scale(1 1) rotate(0) translate(4 1024)\">\n<title>Tree</title>\n<polygon fill=\"#ffffff\" stroke=\"transparent\" points=\"-4,4 -4,-1024 3839,-1024 3839,4 -4,4\"/>\n<!-- 0 -->\n<g id=\"node1\" class=\"node\">\n<title>0</title>\n<path fill=\"#f0b78e\" stroke=\"#000000\" d=\"M1675.5,-1020C1675.5,-1020 1440.5,-1020 1440.5,-1020 1434.5,-1020 1428.5,-1014 1428.5,-1008 1428.5,-1008 1428.5,-949 1428.5,-949 1428.5,-943 1434.5,-937 1440.5,-937 1440.5,-937 1675.5,-937 1675.5,-937 1681.5,-937 1687.5,-943 1687.5,-949 1687.5,-949 1687.5,-1008 1687.5,-1008 1687.5,-1014 1681.5,-1020 1675.5,-1020\"/>\n<text text-anchor=\"start\" x=\"1436.5\" y=\"-1004.8\" font-family=\"Helvetica,sans-Serif\" font-size=\"14.00\" fill=\"#000000\">AreaShape_MajorAxisLength ≤ 34.54</text>\n<text text-anchor=\"start\" x=\"1520\" y=\"-989.8\" font-family=\"Helvetica,sans-Serif\" font-size=\"14.00\" fill=\"#000000\">gini = 0.494</text>\n<text text-anchor=\"start\" x=\"1510\" y=\"-974.8\" font-family=\"Helvetica,sans-Serif\" font-size=\"14.00\" fill=\"#000000\">samples = 705</text>\n<text text-anchor=\"start\" x=\"1468\" y=\"-959.8\" font-family=\"Helvetica,sans-Serif\" font-size=\"14.00\" fill=\"#000000\">value = [472, 162, 42, 9, 20]</text>\n<text text-anchor=\"start\" x=\"1529\" y=\"-944.8\" font-family=\"Helvetica,sans-Serif\" font-size=\"14.00\" fill=\"#000000\">class = 3</text>\n</g>\n<!-- 1 -->\n<g id=\"node2\" class=\"node\">\n<title>1</title>\n<path fill=\"#e78d4b\" stroke=\"#000000\" d=\"M1537,-901C1537,-901 1193,-901 1193,-901 1187,-901 1181,-895 1181,-889 1181,-889 1181,-830 1181,-830 1181,-824 1187,-818 1193,-818 1193,-818 1537,-818 1537,-818 1543,-818 1549,-824 1549,-830 1549,-830 1549,-889 1549,-889 1549,-895 1543,-901 1537,-901\"/>\n<text text-anchor=\"start\" x=\"1189\" y=\"-885.8\" font-family=\"Helvetica,sans-Serif\" font-size=\"14.00\" fill=\"#000000\">RadialDistribution_MeanFrac_BF_image_4of4 ≤ 0.827</text>\n<text text-anchor=\"start\" x=\"1327\" y=\"-870.8\" font-family=\"Helvetica,sans-Serif\" font-size=\"14.00\" fill=\"#000000\">gini = 0.161</text>\n<text text-anchor=\"start\" x=\"1317\" y=\"-855.8\" font-family=\"Helvetica,sans-Serif\" font-size=\"14.00\" fill=\"#000000\">samples = 394</text>\n<text text-anchor=\"start\" x=\"1287.5\" y=\"-840.8\" font-family=\"Helvetica,sans-Serif\" font-size=\"14.00\" fill=\"#000000\">value = [360, 25, 9, 0, 0]</text>\n<text text-anchor=\"start\" x=\"1336\" y=\"-825.8\" font-family=\"Helvetica,sans-Serif\" font-size=\"14.00\" fill=\"#000000\">class = 3</text>\n</g>\n<!-- 0&#45;&gt;1 -->\n<g id=\"edge1\" class=\"edge\">\n<title>0&#45;&gt;1</title>\n<path fill=\"none\" stroke=\"#000000\" d=\"M1490.498,-936.8796C1474.6308,-927.0962 1457.6106,-916.6019 1441.3844,-906.5971\"/>\n<polygon fill=\"#000000\" stroke=\"#000000\" points=\"1442.8129,-903.3661 1432.4639,-901.0969 1439.139,-909.3245 1442.8129,-903.3661\"/>\n<text text-anchor=\"middle\" x=\"1438.2334\" y=\"-921.7221\" font-family=\"Helvetica,sans-Serif\" font-size=\"14.00\" fill=\"#000000\">True</text>\n</g>\n<!-- 22 -->\n<g id=\"node23\" class=\"node\">\n<title>22</title>\n<path fill=\"#eefce6\" stroke=\"#000000\" d=\"M1982,-901C1982,-901 1766,-901 1766,-901 1760,-901 1754,-895 1754,-889 1754,-889 1754,-830 1754,-830 1754,-824 1760,-818 1766,-818 1766,-818 1982,-818 1982,-818 1988,-818 1994,-824 1994,-830 1994,-830 1994,-889 1994,-889 1994,-895 1988,-901 1982,-901\"/>\n<text text-anchor=\"start\" x=\"1762\" y=\"-885.8\" font-family=\"Helvetica,sans-Serif\" font-size=\"14.00\" fill=\"#000000\">AreaShape_Compactness ≤ 1.051</text>\n<text text-anchor=\"start\" x=\"1840.5\" y=\"-870.8\" font-family=\"Helvetica,sans-Serif\" font-size=\"14.00\" fill=\"#000000\">gini = 0.66</text>\n<text text-anchor=\"start\" x=\"1826\" y=\"-855.8\" font-family=\"Helvetica,sans-Serif\" font-size=\"14.00\" fill=\"#000000\">samples = 311</text>\n<text text-anchor=\"start\" x=\"1784\" y=\"-840.8\" font-family=\"Helvetica,sans-Serif\" font-size=\"14.00\" fill=\"#000000\">value = [112, 137, 33, 9, 20]</text>\n<text text-anchor=\"start\" x=\"1845\" y=\"-825.8\" font-family=\"Helvetica,sans-Serif\" font-size=\"14.00\" fill=\"#000000\">class = 0</text>\n</g>\n<!-- 0&#45;&gt;22 -->\n<g id=\"edge22\" class=\"edge\">\n<title>0&#45;&gt;22</title>\n<path fill=\"none\" stroke=\"#000000\" d=\"M1668.5215,-936.8796C1696.1847,-926.4621 1725.9885,-915.2385 1754.084,-904.6582\"/>\n<polygon fill=\"#000000\" stroke=\"#000000\" points=\"1755.416,-907.8966 1763.5409,-901.0969 1752.949,-901.3458 1755.416,-907.8966\"/>\n<text text-anchor=\"middle\" x=\"1753.2274\" y=\"-920.1704\" font-family=\"Helvetica,sans-Serif\" font-size=\"14.00\" fill=\"#000000\">False</text>\n</g>\n<!-- 2 -->\n<g id=\"node3\" class=\"node\">\n<title>2</title>\n<path fill=\"#e6843e\" stroke=\"#000000\" d=\"M940.5,-782C940.5,-782 731.5,-782 731.5,-782 725.5,-782 719.5,-776 719.5,-770 719.5,-770 719.5,-711 719.5,-711 719.5,-705 725.5,-699 731.5,-699 731.5,-699 940.5,-699 940.5,-699 946.5,-699 952.5,-705 952.5,-711 952.5,-711 952.5,-770 952.5,-770 952.5,-776 946.5,-782 940.5,-782\"/>\n<text text-anchor=\"start\" x=\"727.5\" y=\"-766.8\" font-family=\"Helvetica,sans-Serif\" font-size=\"14.00\" fill=\"#000000\">AreaShape_MeanRadius ≤ 5.932</text>\n<text text-anchor=\"start\" x=\"798\" y=\"-751.8\" font-family=\"Helvetica,sans-Serif\" font-size=\"14.00\" fill=\"#000000\">gini = 0.046</text>\n<text text-anchor=\"start\" x=\"788\" y=\"-736.8\" font-family=\"Helvetica,sans-Serif\" font-size=\"14.00\" fill=\"#000000\">samples = 339</text>\n<text text-anchor=\"start\" x=\"762.5\" y=\"-721.8\" font-family=\"Helvetica,sans-Serif\" font-size=\"14.00\" fill=\"#000000\">value = [331, 6, 2, 0, 0]</text>\n<text text-anchor=\"start\" x=\"807\" y=\"-706.8\" font-family=\"Helvetica,sans-Serif\" font-size=\"14.00\" fill=\"#000000\">class = 3</text>\n</g>\n<!-- 1&#45;&gt;2 -->\n<g id=\"edge2\" class=\"edge\">\n<title>1&#45;&gt;2</title>\n<path fill=\"none\" stroke=\"#000000\" d=\"M1180.7241,-818.0466C1108.6842,-801.841 1027.8744,-783.6627 962.6118,-768.9817\"/>\n<polygon fill=\"#000000\" stroke=\"#000000\" points=\"963.2117,-765.5292 952.6873,-766.7491 961.6753,-772.3586 963.2117,-765.5292\"/>\n</g>\n<!-- 11 -->\n<g id=\"node12\" class=\"node\">\n<title>11</title>\n<path fill=\"#f8dcc8\" stroke=\"#000000\" d=\"M1537,-782C1537,-782 1193,-782 1193,-782 1187,-782 1181,-776 1181,-770 1181,-770 1181,-711 1181,-711 1181,-705 1187,-699 1193,-699 1193,-699 1537,-699 1537,-699 1543,-699 1549,-705 1549,-711 1549,-711 1549,-770 1549,-770 1549,-776 1543,-782 1537,-782\"/>\n<text text-anchor=\"start\" x=\"1189\" y=\"-766.8\" font-family=\"Helvetica,sans-Serif\" font-size=\"14.00\" fill=\"#000000\">RadialDistribution_MeanFrac_DF_image_3of4 ≤ 1.077</text>\n<text text-anchor=\"start\" x=\"1327\" y=\"-751.8\" font-family=\"Helvetica,sans-Serif\" font-size=\"14.00\" fill=\"#000000\">gini = 0.586</text>\n<text text-anchor=\"start\" x=\"1321\" y=\"-736.8\" font-family=\"Helvetica,sans-Serif\" font-size=\"14.00\" fill=\"#000000\">samples = 55</text>\n<text text-anchor=\"start\" x=\"1291.5\" y=\"-721.8\" font-family=\"Helvetica,sans-Serif\" font-size=\"14.00\" fill=\"#000000\">value = [29, 19, 7, 0, 0]</text>\n<text text-anchor=\"start\" x=\"1336\" y=\"-706.8\" font-family=\"Helvetica,sans-Serif\" font-size=\"14.00\" fill=\"#000000\">class = 3</text>\n</g>\n<!-- 1&#45;&gt;11 -->\n<g id=\"edge11\" class=\"edge\">\n<title>1&#45;&gt;11</title>\n<path fill=\"none\" stroke=\"#000000\" d=\"M1365,-817.8796C1365,-809.6838 1365,-800.9891 1365,-792.5013\"/>\n<polygon fill=\"#000000\" stroke=\"#000000\" points=\"1368.5001,-792.298 1365,-782.2981 1361.5001,-792.2981 1368.5001,-792.298\"/>\n</g>\n<!-- 3 -->\n<g id=\"node4\" class=\"node\">\n<title>3</title>\n<path fill=\"#e5833c\" stroke=\"#000000\" d=\"M663,-663C663,-663 391,-663 391,-663 385,-663 379,-657 379,-651 379,-651 379,-592 379,-592 379,-586 385,-580 391,-580 391,-580 663,-580 663,-580 669,-580 675,-586 675,-592 675,-592 675,-651 675,-651 675,-657 669,-663 663,-663\"/>\n<text text-anchor=\"start\" x=\"387\" y=\"-647.8\" font-family=\"Helvetica,sans-Serif\" font-size=\"14.00\" fill=\"#000000\">Intensity_MeanIntensity_BF_image ≤ 0.002</text>\n<text text-anchor=\"start\" x=\"493.5\" y=\"-632.8\" font-family=\"Helvetica,sans-Serif\" font-size=\"14.00\" fill=\"#000000\">gini = 0.03</text>\n<text text-anchor=\"start\" x=\"479\" y=\"-617.8\" font-family=\"Helvetica,sans-Serif\" font-size=\"14.00\" fill=\"#000000\">samples = 334</text>\n<text text-anchor=\"start\" x=\"453.5\" y=\"-602.8\" font-family=\"Helvetica,sans-Serif\" font-size=\"14.00\" fill=\"#000000\">value = [329, 3, 2, 0, 0]</text>\n<text text-anchor=\"start\" x=\"498\" y=\"-587.8\" font-family=\"Helvetica,sans-Serif\" font-size=\"14.00\" fill=\"#000000\">class = 3</text>\n</g>\n<!-- 2&#45;&gt;3 -->\n<g id=\"edge3\" class=\"edge\">\n<title>2&#45;&gt;3</title>\n<path fill=\"none\" stroke=\"#000000\" d=\"M727.9268,-698.8796C700.994,-688.5074 671.9861,-677.3361 644.6181,-666.7963\"/>\n<polygon fill=\"#000000\" stroke=\"#000000\" points=\"645.602,-663.4247 635.0122,-663.0969 643.0862,-669.957 645.602,-663.4247\"/>\n</g>\n<!-- 10 -->\n<g id=\"node11\" class=\"node\">\n<title>10</title>\n<path fill=\"#d3f6bd\" stroke=\"#000000\" d=\"M897,-655.5C897,-655.5 775,-655.5 775,-655.5 769,-655.5 763,-649.5 763,-643.5 763,-643.5 763,-599.5 763,-599.5 763,-593.5 769,-587.5 775,-587.5 775,-587.5 897,-587.5 897,-587.5 903,-587.5 909,-593.5 909,-599.5 909,-599.5 909,-643.5 909,-643.5 909,-649.5 903,-655.5 897,-655.5\"/>\n<text text-anchor=\"start\" x=\"802.5\" y=\"-640.3\" font-family=\"Helvetica,sans-Serif\" font-size=\"14.00\" fill=\"#000000\">gini = 0.48</text>\n<text text-anchor=\"start\" x=\"796.5\" y=\"-625.3\" font-family=\"Helvetica,sans-Serif\" font-size=\"14.00\" fill=\"#000000\">samples = 5</text>\n<text text-anchor=\"start\" x=\"771\" y=\"-610.3\" font-family=\"Helvetica,sans-Serif\" font-size=\"14.00\" fill=\"#000000\">value = [2, 3, 0, 0, 0]</text>\n<text text-anchor=\"start\" x=\"807\" y=\"-595.3\" font-family=\"Helvetica,sans-Serif\" font-size=\"14.00\" fill=\"#000000\">class = 0</text>\n</g>\n<!-- 2&#45;&gt;10 -->\n<g id=\"edge10\" class=\"edge\">\n<title>2&#45;&gt;10</title>\n<path fill=\"none\" stroke=\"#000000\" d=\"M836,-698.8796C836,-688.2134 836,-676.7021 836,-665.9015\"/>\n<polygon fill=\"#000000\" stroke=\"#000000\" points=\"839.5001,-665.8149 836,-655.8149 832.5001,-665.815 839.5001,-665.8149\"/>\n</g>\n<!-- 4 -->\n<g id=\"node5\" class=\"node\">\n<title>4</title>\n<path fill=\"#e5823a\" stroke=\"#000000\" d=\"M424,-544C424,-544 156,-544 156,-544 150,-544 144,-538 144,-532 144,-532 144,-473 144,-473 144,-467 150,-461 156,-461 156,-461 424,-461 424,-461 430,-461 436,-467 436,-473 436,-473 436,-532 436,-532 436,-538 430,-544 424,-544\"/>\n<text text-anchor=\"start\" x=\"152\" y=\"-528.8\" font-family=\"Helvetica,sans-Serif\" font-size=\"14.00\" fill=\"#000000\">Intensity_MADIntensity_BF_image ≤ 0.001</text>\n<text text-anchor=\"start\" x=\"252\" y=\"-513.8\" font-family=\"Helvetica,sans-Serif\" font-size=\"14.00\" fill=\"#000000\">gini = 0.012</text>\n<text text-anchor=\"start\" x=\"242\" y=\"-498.8\" font-family=\"Helvetica,sans-Serif\" font-size=\"14.00\" fill=\"#000000\">samples = 327</text>\n<text text-anchor=\"start\" x=\"216.5\" y=\"-483.8\" font-family=\"Helvetica,sans-Serif\" font-size=\"14.00\" fill=\"#000000\">value = [325, 2, 0, 0, 0]</text>\n<text text-anchor=\"start\" x=\"261\" y=\"-468.8\" font-family=\"Helvetica,sans-Serif\" font-size=\"14.00\" fill=\"#000000\">class = 3</text>\n</g>\n<!-- 3&#45;&gt;4 -->\n<g id=\"edge4\" class=\"edge\">\n<title>3&#45;&gt;4</title>\n<path fill=\"none\" stroke=\"#000000\" d=\"M444.1089,-579.8796C423.9929,-569.7791 402.3677,-558.9209 381.8644,-548.626\"/>\n<polygon fill=\"#000000\" stroke=\"#000000\" points=\"383.3516,-545.4563 372.8443,-544.0969 380.2105,-551.712 383.3516,-545.4563\"/>\n</g>\n<!-- 9 -->\n<g id=\"node10\" class=\"node\">\n<title>9</title>\n<path fill=\"#f5cdb0\" stroke=\"#000000\" d=\"M588,-536.5C588,-536.5 466,-536.5 466,-536.5 460,-536.5 454,-530.5 454,-524.5 454,-524.5 454,-480.5 454,-480.5 454,-474.5 460,-468.5 466,-468.5 466,-468.5 588,-468.5 588,-468.5 594,-468.5 600,-474.5 600,-480.5 600,-480.5 600,-524.5 600,-524.5 600,-530.5 594,-536.5 588,-536.5\"/>\n<text text-anchor=\"start\" x=\"489\" y=\"-521.3\" font-family=\"Helvetica,sans-Serif\" font-size=\"14.00\" fill=\"#000000\">gini = 0.571</text>\n<text text-anchor=\"start\" x=\"487.5\" y=\"-506.3\" font-family=\"Helvetica,sans-Serif\" font-size=\"14.00\" fill=\"#000000\">samples = 7</text>\n<text text-anchor=\"start\" x=\"462\" y=\"-491.3\" font-family=\"Helvetica,sans-Serif\" font-size=\"14.00\" fill=\"#000000\">value = [4, 1, 2, 0, 0]</text>\n<text text-anchor=\"start\" x=\"498\" y=\"-476.3\" font-family=\"Helvetica,sans-Serif\" font-size=\"14.00\" fill=\"#000000\">class = 3</text>\n</g>\n<!-- 3&#45;&gt;9 -->\n<g id=\"edge9\" class=\"edge\">\n<title>3&#45;&gt;9</title>\n<path fill=\"none\" stroke=\"#000000\" d=\"M527,-579.8796C527,-569.2134 527,-557.7021 527,-546.9015\"/>\n<polygon fill=\"#000000\" stroke=\"#000000\" points=\"530.5001,-546.8149 527,-536.8149 523.5001,-546.815 530.5001,-546.8149\"/>\n</g>\n<!-- 5 -->\n<g id=\"node6\" class=\"node\">\n<title>5</title>\n<path fill=\"#e9965a\" stroke=\"#000000\" d=\"M308,-425C308,-425 12,-425 12,-425 6,-425 0,-419 0,-413 0,-413 0,-354 0,-354 0,-348 6,-342 12,-342 12,-342 308,-342 308,-342 314,-342 320,-348 320,-354 320,-354 320,-413 320,-413 320,-419 314,-425 308,-425\"/>\n<text text-anchor=\"start\" x=\"8\" y=\"-409.8\" font-family=\"Helvetica,sans-Serif\" font-size=\"14.00\" fill=\"#000000\">Texture_Correlation_DF_image_3_135 ≤ 0.289</text>\n<text text-anchor=\"start\" x=\"122\" y=\"-394.8\" font-family=\"Helvetica,sans-Serif\" font-size=\"14.00\" fill=\"#000000\">gini = 0.245</text>\n<text text-anchor=\"start\" x=\"116\" y=\"-379.8\" font-family=\"Helvetica,sans-Serif\" font-size=\"14.00\" fill=\"#000000\">samples = 14</text>\n<text text-anchor=\"start\" x=\"90.5\" y=\"-364.8\" font-family=\"Helvetica,sans-Serif\" font-size=\"14.00\" fill=\"#000000\">value = [12, 2, 0, 0, 0]</text>\n<text text-anchor=\"start\" x=\"131\" y=\"-349.8\" font-family=\"Helvetica,sans-Serif\" font-size=\"14.00\" fill=\"#000000\">class = 3</text>\n</g>\n<!-- 4&#45;&gt;5 -->\n<g id=\"edge5\" class=\"edge\">\n<title>4&#45;&gt;5</title>\n<path fill=\"none\" stroke=\"#000000\" d=\"M244.5323,-460.8796C234.3983,-451.6031 223.566,-441.6874 213.1535,-432.1559\"/>\n<polygon fill=\"#000000\" stroke=\"#000000\" points=\"215.4013,-429.4685 205.6618,-425.2981 210.6748,-434.6319 215.4013,-429.4685\"/>\n</g>\n<!-- 8 -->\n<g id=\"node9\" class=\"node\">\n<title>8</title>\n<path fill=\"#e58139\" stroke=\"#000000\" d=\"M489.5,-417.5C489.5,-417.5 350.5,-417.5 350.5,-417.5 344.5,-417.5 338.5,-411.5 338.5,-405.5 338.5,-405.5 338.5,-361.5 338.5,-361.5 338.5,-355.5 344.5,-349.5 350.5,-349.5 350.5,-349.5 489.5,-349.5 489.5,-349.5 495.5,-349.5 501.5,-355.5 501.5,-361.5 501.5,-361.5 501.5,-405.5 501.5,-405.5 501.5,-411.5 495.5,-417.5 489.5,-417.5\"/>\n<text text-anchor=\"start\" x=\"390.5\" y=\"-402.3\" font-family=\"Helvetica,sans-Serif\" font-size=\"14.00\" fill=\"#000000\">gini = 0.0</text>\n<text text-anchor=\"start\" x=\"372\" y=\"-387.3\" font-family=\"Helvetica,sans-Serif\" font-size=\"14.00\" fill=\"#000000\">samples = 313</text>\n<text text-anchor=\"start\" x=\"346.5\" y=\"-372.3\" font-family=\"Helvetica,sans-Serif\" font-size=\"14.00\" fill=\"#000000\">value = [313, 0, 0, 0, 0]</text>\n<text text-anchor=\"start\" x=\"391\" y=\"-357.3\" font-family=\"Helvetica,sans-Serif\" font-size=\"14.00\" fill=\"#000000\">class = 3</text>\n</g>\n<!-- 4&#45;&gt;8 -->\n<g id=\"edge8\" class=\"edge\">\n<title>4&#45;&gt;8</title>\n<path fill=\"none\" stroke=\"#000000\" d=\"M335.4677,-460.8796C348.3211,-449.1138 362.2979,-436.3197 375.1166,-424.5855\"/>\n<polygon fill=\"#000000\" stroke=\"#000000\" points=\"377.5001,-427.1488 382.5131,-417.8149 372.7736,-421.9854 377.5001,-427.1488\"/>\n</g>\n<!-- 6 -->\n<g id=\"node7\" class=\"node\">\n<title>6</title>\n<path fill=\"#e58139\" stroke=\"#000000\" d=\"M139,-298.5C139,-298.5 17,-298.5 17,-298.5 11,-298.5 5,-292.5 5,-286.5 5,-286.5 5,-242.5 5,-242.5 5,-236.5 11,-230.5 17,-230.5 17,-230.5 139,-230.5 139,-230.5 145,-230.5 151,-236.5 151,-242.5 151,-242.5 151,-286.5 151,-286.5 151,-292.5 145,-298.5 139,-298.5\"/>\n<text text-anchor=\"start\" x=\"48.5\" y=\"-283.3\" font-family=\"Helvetica,sans-Serif\" font-size=\"14.00\" fill=\"#000000\">gini = 0.0</text>\n<text text-anchor=\"start\" x=\"38.5\" y=\"-268.3\" font-family=\"Helvetica,sans-Serif\" font-size=\"14.00\" fill=\"#000000\">samples = 9</text>\n<text text-anchor=\"start\" x=\"13\" y=\"-253.3\" font-family=\"Helvetica,sans-Serif\" font-size=\"14.00\" fill=\"#000000\">value = [9, 0, 0, 0, 0]</text>\n<text text-anchor=\"start\" x=\"49\" y=\"-238.3\" font-family=\"Helvetica,sans-Serif\" font-size=\"14.00\" fill=\"#000000\">class = 3</text>\n</g>\n<!-- 5&#45;&gt;6 -->\n<g id=\"edge6\" class=\"edge\">\n<title>5&#45;&gt;6</title>\n<path fill=\"none\" stroke=\"#000000\" d=\"M131.3204,-341.8796C123.5917,-330.6636 115.2191,-318.5131 107.4492,-307.2372\"/>\n<polygon fill=\"#000000\" stroke=\"#000000\" points=\"110.2018,-305.0634 101.6456,-298.8149 104.4377,-309.0353 110.2018,-305.0634\"/>\n</g>\n<!-- 7 -->\n<g id=\"node8\" class=\"node\">\n<title>7</title>\n<path fill=\"#f6d5bd\" stroke=\"#000000\" d=\"M303,-298.5C303,-298.5 181,-298.5 181,-298.5 175,-298.5 169,-292.5 169,-286.5 169,-286.5 169,-242.5 169,-242.5 169,-236.5 175,-230.5 181,-230.5 181,-230.5 303,-230.5 303,-230.5 309,-230.5 315,-236.5 315,-242.5 315,-242.5 315,-286.5 315,-286.5 315,-292.5 309,-298.5 303,-298.5\"/>\n<text text-anchor=\"start\" x=\"208.5\" y=\"-283.3\" font-family=\"Helvetica,sans-Serif\" font-size=\"14.00\" fill=\"#000000\">gini = 0.48</text>\n<text text-anchor=\"start\" x=\"202.5\" y=\"-268.3\" font-family=\"Helvetica,sans-Serif\" font-size=\"14.00\" fill=\"#000000\">samples = 5</text>\n<text text-anchor=\"start\" x=\"177\" y=\"-253.3\" font-family=\"Helvetica,sans-Serif\" font-size=\"14.00\" fill=\"#000000\">value = [3, 2, 0, 0, 0]</text>\n<text text-anchor=\"start\" x=\"213\" y=\"-238.3\" font-family=\"Helvetica,sans-Serif\" font-size=\"14.00\" fill=\"#000000\">class = 3</text>\n</g>\n<!-- 5&#45;&gt;7 -->\n<g id=\"edge7\" class=\"edge\">\n<title>5&#45;&gt;7</title>\n<path fill=\"none\" stroke=\"#000000\" d=\"M188.6796,-341.8796C196.4083,-330.6636 204.7809,-318.5131 212.5508,-307.2372\"/>\n<polygon fill=\"#000000\" stroke=\"#000000\" points=\"215.5623,-309.0353 218.3544,-298.8149 209.7982,-305.0634 215.5623,-309.0353\"/>\n</g>\n<!-- 12 -->\n<g id=\"node13\" class=\"node\">\n<title>12</title>\n<path fill=\"#eeae7f\" stroke=\"#000000\" d=\"M1259,-663C1259,-663 981,-663 981,-663 975,-663 969,-657 969,-651 969,-651 969,-592 969,-592 969,-586 975,-580 981,-580 981,-580 1259,-580 1259,-580 1265,-580 1271,-586 1271,-592 1271,-592 1271,-651 1271,-651 1271,-657 1265,-663 1259,-663\"/>\n<text text-anchor=\"start\" x=\"977\" y=\"-647.8\" font-family=\"Helvetica,sans-Serif\" font-size=\"14.00\" fill=\"#000000\">Texture_InfoMeas2_DF_image_3_45 ≤ 0.21</text>\n<text text-anchor=\"start\" x=\"1082\" y=\"-632.8\" font-family=\"Helvetica,sans-Serif\" font-size=\"14.00\" fill=\"#000000\">gini = 0.462</text>\n<text text-anchor=\"start\" x=\"1076\" y=\"-617.8\" font-family=\"Helvetica,sans-Serif\" font-size=\"14.00\" fill=\"#000000\">samples = 37</text>\n<text text-anchor=\"start\" x=\"1050.5\" y=\"-602.8\" font-family=\"Helvetica,sans-Serif\" font-size=\"14.00\" fill=\"#000000\">value = [26, 6, 5, 0, 0]</text>\n<text text-anchor=\"start\" x=\"1091\" y=\"-587.8\" font-family=\"Helvetica,sans-Serif\" font-size=\"14.00\" fill=\"#000000\">class = 3</text>\n</g>\n<!-- 11&#45;&gt;12 -->\n<g id=\"edge12\" class=\"edge\">\n<title>11&#45;&gt;12</title>\n<path fill=\"none\" stroke=\"#000000\" d=\"M1279.3109,-698.8796C1258.4226,-688.7339 1235.9602,-677.8235 1214.6803,-667.4876\"/>\n<polygon fill=\"#000000\" stroke=\"#000000\" points=\"1216.165,-664.3177 1205.6407,-663.0969 1213.1066,-670.6143 1216.165,-664.3177\"/>\n</g>\n<!-- 19 -->\n<g id=\"node20\" class=\"node\">\n<title>19</title>\n<path fill=\"#a7ee7b\" stroke=\"#000000\" d=\"M1641,-663C1641,-663 1301,-663 1301,-663 1295,-663 1289,-657 1289,-651 1289,-651 1289,-592 1289,-592 1289,-586 1295,-580 1301,-580 1301,-580 1641,-580 1641,-580 1647,-580 1653,-586 1653,-592 1653,-592 1653,-651 1653,-651 1653,-657 1647,-663 1641,-663\"/>\n<text text-anchor=\"start\" x=\"1297\" y=\"-647.8\" font-family=\"Helvetica,sans-Serif\" font-size=\"14.00\" fill=\"#000000\">RadialDistribution_RadialCV_DF_image_3of4 ≤ 0.025</text>\n<text text-anchor=\"start\" x=\"1433\" y=\"-632.8\" font-family=\"Helvetica,sans-Serif\" font-size=\"14.00\" fill=\"#000000\">gini = 0.438</text>\n<text text-anchor=\"start\" x=\"1427\" y=\"-617.8\" font-family=\"Helvetica,sans-Serif\" font-size=\"14.00\" fill=\"#000000\">samples = 18</text>\n<text text-anchor=\"start\" x=\"1401.5\" y=\"-602.8\" font-family=\"Helvetica,sans-Serif\" font-size=\"14.00\" fill=\"#000000\">value = [3, 13, 2, 0, 0]</text>\n<text text-anchor=\"start\" x=\"1442\" y=\"-587.8\" font-family=\"Helvetica,sans-Serif\" font-size=\"14.00\" fill=\"#000000\">class = 0</text>\n</g>\n<!-- 11&#45;&gt;19 -->\n<g id=\"edge19\" class=\"edge\">\n<title>11&#45;&gt;19</title>\n<path fill=\"none\" stroke=\"#000000\" d=\"M1402.0737,-698.8796C1410.0961,-689.8733 1418.6552,-680.2644 1426.9167,-670.9897\"/>\n<polygon fill=\"#000000\" stroke=\"#000000\" points=\"1429.7302,-673.0933 1433.7681,-663.2981 1424.5031,-668.4373 1429.7302,-673.0933\"/>\n</g>\n<!-- 13 -->\n<g id=\"node14\" class=\"node\">\n<title>13</title>\n<path fill=\"#ffffff\" stroke=\"#000000\" d=\"M962,-544C962,-544 630,-544 630,-544 624,-544 618,-538 618,-532 618,-532 618,-473 618,-473 618,-467 624,-461 630,-461 630,-461 962,-461 962,-461 968,-461 974,-467 974,-473 974,-473 974,-532 974,-532 974,-538 968,-544 962,-544\"/>\n<text text-anchor=\"start\" x=\"626\" y=\"-528.8\" font-family=\"Helvetica,sans-Serif\" font-size=\"14.00\" fill=\"#000000\">RadialDistribution_FracAtD_DF_image_1of4 ≤ 0.019</text>\n<text text-anchor=\"start\" x=\"758\" y=\"-513.8\" font-family=\"Helvetica,sans-Serif\" font-size=\"14.00\" fill=\"#000000\">gini = 0.667</text>\n<text text-anchor=\"start\" x=\"752\" y=\"-498.8\" font-family=\"Helvetica,sans-Serif\" font-size=\"14.00\" fill=\"#000000\">samples = 15</text>\n<text text-anchor=\"start\" x=\"731\" y=\"-483.8\" font-family=\"Helvetica,sans-Serif\" font-size=\"14.00\" fill=\"#000000\">value = [5, 5, 5, 0, 0]</text>\n<text text-anchor=\"start\" x=\"767\" y=\"-468.8\" font-family=\"Helvetica,sans-Serif\" font-size=\"14.00\" fill=\"#000000\">class = 3</text>\n</g>\n<!-- 12&#45;&gt;13 -->\n<g id=\"edge13\" class=\"edge\">\n<title>12&#45;&gt;13</title>\n<path fill=\"none\" stroke=\"#000000\" d=\"M1006.6805,-579.8796C978.317,-569.4621 947.7586,-558.2385 918.9519,-547.6582\"/>\n<polygon fill=\"#000000\" stroke=\"#000000\" points=\"919.8491,-544.2592 909.2555,-544.0969 917.4357,-550.8301 919.8491,-544.2592\"/>\n</g>\n<!-- 16 -->\n<g id=\"node17\" class=\"node\">\n<title>16</title>\n<path fill=\"#e68742\" stroke=\"#000000\" d=\"M1293.5,-544C1293.5,-544 1004.5,-544 1004.5,-544 998.5,-544 992.5,-538 992.5,-532 992.5,-532 992.5,-473 992.5,-473 992.5,-467 998.5,-461 1004.5,-461 1004.5,-461 1293.5,-461 1293.5,-461 1299.5,-461 1305.5,-467 1305.5,-473 1305.5,-473 1305.5,-532 1305.5,-532 1305.5,-538 1299.5,-544 1293.5,-544\"/>\n<text text-anchor=\"start\" x=\"1000.5\" y=\"-528.8\" font-family=\"Helvetica,sans-Serif\" font-size=\"14.00\" fill=\"#000000\">Texture_SumEntropy_BF_image_3_0 ≤ 2.193</text>\n<text text-anchor=\"start\" x=\"1111\" y=\"-513.8\" font-family=\"Helvetica,sans-Serif\" font-size=\"14.00\" fill=\"#000000\">gini = 0.087</text>\n<text text-anchor=\"start\" x=\"1105\" y=\"-498.8\" font-family=\"Helvetica,sans-Serif\" font-size=\"14.00\" fill=\"#000000\">samples = 22</text>\n<text text-anchor=\"start\" x=\"1079.5\" y=\"-483.8\" font-family=\"Helvetica,sans-Serif\" font-size=\"14.00\" fill=\"#000000\">value = [21, 1, 0, 0, 0]</text>\n<text text-anchor=\"start\" x=\"1120\" y=\"-468.8\" font-family=\"Helvetica,sans-Serif\" font-size=\"14.00\" fill=\"#000000\">class = 3</text>\n</g>\n<!-- 12&#45;&gt;16 -->\n<g id=\"edge16\" class=\"edge\">\n<title>12&#45;&gt;16</title>\n<path fill=\"none\" stroke=\"#000000\" d=\"M1130.1428,-579.8796C1132.162,-571.5938 1134.3055,-562.798 1136.3956,-554.2216\"/>\n<polygon fill=\"#000000\" stroke=\"#000000\" points=\"1139.8466,-554.8425 1138.8139,-544.2981 1133.0457,-553.185 1139.8466,-554.8425\"/>\n</g>\n<!-- 14 -->\n<g id=\"node15\" class=\"node\">\n<title>14</title>\n<path fill=\"#61ead1\" stroke=\"#000000\" d=\"M775,-417.5C775,-417.5 653,-417.5 653,-417.5 647,-417.5 641,-411.5 641,-405.5 641,-405.5 641,-361.5 641,-361.5 641,-355.5 647,-349.5 653,-349.5 653,-349.5 775,-349.5 775,-349.5 781,-349.5 787,-355.5 787,-361.5 787,-361.5 787,-405.5 787,-405.5 787,-411.5 781,-417.5 775,-417.5\"/>\n<text text-anchor=\"start\" x=\"676\" y=\"-402.3\" font-family=\"Helvetica,sans-Serif\" font-size=\"14.00\" fill=\"#000000\">gini = 0.278</text>\n<text text-anchor=\"start\" x=\"674.5\" y=\"-387.3\" font-family=\"Helvetica,sans-Serif\" font-size=\"14.00\" fill=\"#000000\">samples = 6</text>\n<text text-anchor=\"start\" x=\"649\" y=\"-372.3\" font-family=\"Helvetica,sans-Serif\" font-size=\"14.00\" fill=\"#000000\">value = [0, 1, 5, 0, 0]</text>\n<text text-anchor=\"start\" x=\"685\" y=\"-357.3\" font-family=\"Helvetica,sans-Serif\" font-size=\"14.00\" fill=\"#000000\">class = 2</text>\n</g>\n<!-- 13&#45;&gt;14 -->\n<g id=\"edge14\" class=\"edge\">\n<title>13&#45;&gt;14</title>\n<path fill=\"none\" stroke=\"#000000\" d=\"M767.3204,-460.8796C759.5917,-449.6636 751.2191,-437.5131 743.4492,-426.2372\"/>\n<polygon fill=\"#000000\" stroke=\"#000000\" points=\"746.2018,-424.0634 737.6456,-417.8149 740.4377,-428.0353 746.2018,-424.0634\"/>\n</g>\n<!-- 15 -->\n<g id=\"node16\" class=\"node\">\n<title>15</title>\n<path fill=\"#fae6d7\" stroke=\"#000000\" d=\"M939,-417.5C939,-417.5 817,-417.5 817,-417.5 811,-417.5 805,-411.5 805,-405.5 805,-405.5 805,-361.5 805,-361.5 805,-355.5 811,-349.5 817,-349.5 817,-349.5 939,-349.5 939,-349.5 945,-349.5 951,-355.5 951,-361.5 951,-361.5 951,-405.5 951,-405.5 951,-411.5 945,-417.5 939,-417.5\"/>\n<text text-anchor=\"start\" x=\"840\" y=\"-402.3\" font-family=\"Helvetica,sans-Serif\" font-size=\"14.00\" fill=\"#000000\">gini = 0.494</text>\n<text text-anchor=\"start\" x=\"838.5\" y=\"-387.3\" font-family=\"Helvetica,sans-Serif\" font-size=\"14.00\" fill=\"#000000\">samples = 9</text>\n<text text-anchor=\"start\" x=\"813\" y=\"-372.3\" font-family=\"Helvetica,sans-Serif\" font-size=\"14.00\" fill=\"#000000\">value = [5, 4, 0, 0, 0]</text>\n<text text-anchor=\"start\" x=\"849\" y=\"-357.3\" font-family=\"Helvetica,sans-Serif\" font-size=\"14.00\" fill=\"#000000\">class = 3</text>\n</g>\n<!-- 13&#45;&gt;15 -->\n<g id=\"edge15\" class=\"edge\">\n<title>13&#45;&gt;15</title>\n<path fill=\"none\" stroke=\"#000000\" d=\"M824.6796,-460.8796C832.4083,-449.6636 840.7809,-437.5131 848.5508,-426.2372\"/>\n<polygon fill=\"#000000\" stroke=\"#000000\" points=\"851.5623,-428.0353 854.3544,-417.8149 845.7982,-424.0634 851.5623,-428.0353\"/>\n</g>\n<!-- 17 -->\n<g id=\"node18\" class=\"node\">\n<title>17</title>\n<path fill=\"#e58139\" stroke=\"#000000\" d=\"M1163.5,-417.5C1163.5,-417.5 1032.5,-417.5 1032.5,-417.5 1026.5,-417.5 1020.5,-411.5 1020.5,-405.5 1020.5,-405.5 1020.5,-361.5 1020.5,-361.5 1020.5,-355.5 1026.5,-349.5 1032.5,-349.5 1032.5,-349.5 1163.5,-349.5 1163.5,-349.5 1169.5,-349.5 1175.5,-355.5 1175.5,-361.5 1175.5,-361.5 1175.5,-405.5 1175.5,-405.5 1175.5,-411.5 1169.5,-417.5 1163.5,-417.5\"/>\n<text text-anchor=\"start\" x=\"1068.5\" y=\"-402.3\" font-family=\"Helvetica,sans-Serif\" font-size=\"14.00\" fill=\"#000000\">gini = 0.0</text>\n<text text-anchor=\"start\" x=\"1054\" y=\"-387.3\" font-family=\"Helvetica,sans-Serif\" font-size=\"14.00\" fill=\"#000000\">samples = 17</text>\n<text text-anchor=\"start\" x=\"1028.5\" y=\"-372.3\" font-family=\"Helvetica,sans-Serif\" font-size=\"14.00\" fill=\"#000000\">value = [17, 0, 0, 0, 0]</text>\n<text text-anchor=\"start\" x=\"1069\" y=\"-357.3\" font-family=\"Helvetica,sans-Serif\" font-size=\"14.00\" fill=\"#000000\">class = 3</text>\n</g>\n<!-- 16&#45;&gt;17 -->\n<g id=\"edge17\" class=\"edge\">\n<title>16&#45;&gt;17</title>\n<path fill=\"none\" stroke=\"#000000\" d=\"M1131.1627,-460.8796C1126.4972,-449.9935 1121.4544,-438.227 1116.7433,-427.2344\"/>\n<polygon fill=\"#000000\" stroke=\"#000000\" points=\"1119.8627,-425.6277 1112.7064,-417.8149 1113.4286,-428.3851 1119.8627,-425.6277\"/>\n</g>\n<!-- 18 -->\n<g id=\"node19\" class=\"node\">\n<title>18</title>\n<path fill=\"#eca06a\" stroke=\"#000000\" d=\"M1328,-417.5C1328,-417.5 1206,-417.5 1206,-417.5 1200,-417.5 1194,-411.5 1194,-405.5 1194,-405.5 1194,-361.5 1194,-361.5 1194,-355.5 1200,-349.5 1206,-349.5 1206,-349.5 1328,-349.5 1328,-349.5 1334,-349.5 1340,-355.5 1340,-361.5 1340,-361.5 1340,-405.5 1340,-405.5 1340,-411.5 1334,-417.5 1328,-417.5\"/>\n<text text-anchor=\"start\" x=\"1233.5\" y=\"-402.3\" font-family=\"Helvetica,sans-Serif\" font-size=\"14.00\" fill=\"#000000\">gini = 0.32</text>\n<text text-anchor=\"start\" x=\"1227.5\" y=\"-387.3\" font-family=\"Helvetica,sans-Serif\" font-size=\"14.00\" fill=\"#000000\">samples = 5</text>\n<text text-anchor=\"start\" x=\"1202\" y=\"-372.3\" font-family=\"Helvetica,sans-Serif\" font-size=\"14.00\" fill=\"#000000\">value = [4, 1, 0, 0, 0]</text>\n<text text-anchor=\"start\" x=\"1238\" y=\"-357.3\" font-family=\"Helvetica,sans-Serif\" font-size=\"14.00\" fill=\"#000000\">class = 3</text>\n</g>\n<!-- 16&#45;&gt;18 -->\n<g id=\"edge18\" class=\"edge\">\n<title>16&#45;&gt;18</title>\n<path fill=\"none\" stroke=\"#000000\" d=\"M1190.2707,-460.8796C1201.7195,-449.3337 1214.1503,-436.7976 1225.6062,-425.2446\"/>\n<polygon fill=\"#000000\" stroke=\"#000000\" points=\"1228.4175,-427.3802 1232.9734,-417.8149 1223.4469,-422.4514 1228.4175,-427.3802\"/>\n</g>\n<!-- 20 -->\n<g id=\"node21\" class=\"node\">\n<title>20</title>\n<path fill=\"#f8e0ce\" stroke=\"#000000\" d=\"M1458,-536.5C1458,-536.5 1336,-536.5 1336,-536.5 1330,-536.5 1324,-530.5 1324,-524.5 1324,-524.5 1324,-480.5 1324,-480.5 1324,-474.5 1330,-468.5 1336,-468.5 1336,-468.5 1458,-468.5 1458,-468.5 1464,-468.5 1470,-474.5 1470,-480.5 1470,-480.5 1470,-524.5 1470,-524.5 1470,-530.5 1464,-536.5 1458,-536.5\"/>\n<text text-anchor=\"start\" x=\"1359\" y=\"-521.3\" font-family=\"Helvetica,sans-Serif\" font-size=\"14.00\" fill=\"#000000\">gini = 0.611</text>\n<text text-anchor=\"start\" x=\"1357.5\" y=\"-506.3\" font-family=\"Helvetica,sans-Serif\" font-size=\"14.00\" fill=\"#000000\">samples = 6</text>\n<text text-anchor=\"start\" x=\"1332\" y=\"-491.3\" font-family=\"Helvetica,sans-Serif\" font-size=\"14.00\" fill=\"#000000\">value = [3, 1, 2, 0, 0]</text>\n<text text-anchor=\"start\" x=\"1368\" y=\"-476.3\" font-family=\"Helvetica,sans-Serif\" font-size=\"14.00\" fill=\"#000000\">class = 3</text>\n</g>\n<!-- 19&#45;&gt;20 -->\n<g id=\"edge20\" class=\"edge\">\n<title>19&#45;&gt;20</title>\n<path fill=\"none\" stroke=\"#000000\" d=\"M1445.1184,-579.8796C1438.2121,-568.7735 1430.7361,-556.7513 1423.7825,-545.5691\"/>\n<polygon fill=\"#000000\" stroke=\"#000000\" points=\"1426.5917,-543.4587 1418.3387,-536.8149 1420.6473,-547.1552 1426.5917,-543.4587\"/>\n</g>\n<!-- 21 -->\n<g id=\"node22\" class=\"node\">\n<title>21</title>\n<path fill=\"#7be539\" stroke=\"#000000\" d=\"M1631.5,-536.5C1631.5,-536.5 1500.5,-536.5 1500.5,-536.5 1494.5,-536.5 1488.5,-530.5 1488.5,-524.5 1488.5,-524.5 1488.5,-480.5 1488.5,-480.5 1488.5,-474.5 1494.5,-468.5 1500.5,-468.5 1500.5,-468.5 1631.5,-468.5 1631.5,-468.5 1637.5,-468.5 1643.5,-474.5 1643.5,-480.5 1643.5,-480.5 1643.5,-524.5 1643.5,-524.5 1643.5,-530.5 1637.5,-536.5 1631.5,-536.5\"/>\n<text text-anchor=\"start\" x=\"1536.5\" y=\"-521.3\" font-family=\"Helvetica,sans-Serif\" font-size=\"14.00\" fill=\"#000000\">gini = 0.0</text>\n<text text-anchor=\"start\" x=\"1522\" y=\"-506.3\" font-family=\"Helvetica,sans-Serif\" font-size=\"14.00\" fill=\"#000000\">samples = 12</text>\n<text text-anchor=\"start\" x=\"1496.5\" y=\"-491.3\" font-family=\"Helvetica,sans-Serif\" font-size=\"14.00\" fill=\"#000000\">value = [0, 12, 0, 0, 0]</text>\n<text text-anchor=\"start\" x=\"1537\" y=\"-476.3\" font-family=\"Helvetica,sans-Serif\" font-size=\"14.00\" fill=\"#000000\">class = 0</text>\n</g>\n<!-- 19&#45;&gt;21 -->\n<g id=\"edge21\" class=\"edge\">\n<title>19&#45;&gt;21</title>\n<path fill=\"none\" stroke=\"#000000\" d=\"M1504.2264,-579.8796C1513.2681,-568.5536 1523.0705,-556.2748 1532.1466,-544.9058\"/>\n<polygon fill=\"#000000\" stroke=\"#000000\" points=\"1535.102,-546.8137 1538.6057,-536.8149 1529.6315,-542.4464 1535.102,-546.8137\"/>\n</g>\n<!-- 23 -->\n<g id=\"node24\" class=\"node\">\n<title>23</title>\n<path fill=\"#edfbe3\" stroke=\"#000000\" d=\"M2046,-782C2046,-782 1702,-782 1702,-782 1696,-782 1690,-776 1690,-770 1690,-770 1690,-711 1690,-711 1690,-705 1696,-699 1702,-699 1702,-699 2046,-699 2046,-699 2052,-699 2058,-705 2058,-711 2058,-711 2058,-770 2058,-770 2058,-776 2052,-782 2046,-782\"/>\n<text text-anchor=\"start\" x=\"1698\" y=\"-766.8\" font-family=\"Helvetica,sans-Serif\" font-size=\"14.00\" fill=\"#000000\">RadialDistribution_MeanFrac_BF_image_1of4 ≤ 1.306</text>\n<text text-anchor=\"start\" x=\"1836\" y=\"-751.8\" font-family=\"Helvetica,sans-Serif\" font-size=\"14.00\" fill=\"#000000\">gini = 0.616</text>\n<text text-anchor=\"start\" x=\"1826\" y=\"-736.8\" font-family=\"Helvetica,sans-Serif\" font-size=\"14.00\" fill=\"#000000\">samples = 291</text>\n<text text-anchor=\"start\" x=\"1788\" y=\"-721.8\" font-family=\"Helvetica,sans-Serif\" font-size=\"14.00\" fill=\"#000000\">value = [112, 137, 33, 9, 0]</text>\n<text text-anchor=\"start\" x=\"1845\" y=\"-706.8\" font-family=\"Helvetica,sans-Serif\" font-size=\"14.00\" fill=\"#000000\">class = 0</text>\n</g>\n<!-- 22&#45;&gt;23 -->\n<g id=\"edge23\" class=\"edge\">\n<title>22&#45;&gt;23</title>\n<path fill=\"none\" stroke=\"#000000\" d=\"M1874,-817.8796C1874,-809.6838 1874,-800.9891 1874,-792.5013\"/>\n<polygon fill=\"#000000\" stroke=\"#000000\" points=\"1877.5001,-792.298 1874,-782.2981 1870.5001,-792.2981 1877.5001,-792.298\"/>\n</g>\n<!-- 66 -->\n<g id=\"node67\" class=\"node\">\n<title>66</title>\n<path fill=\"#e539c0\" stroke=\"#000000\" d=\"M2219.5,-774.5C2219.5,-774.5 2088.5,-774.5 2088.5,-774.5 2082.5,-774.5 2076.5,-768.5 2076.5,-762.5 2076.5,-762.5 2076.5,-718.5 2076.5,-718.5 2076.5,-712.5 2082.5,-706.5 2088.5,-706.5 2088.5,-706.5 2219.5,-706.5 2219.5,-706.5 2225.5,-706.5 2231.5,-712.5 2231.5,-718.5 2231.5,-718.5 2231.5,-762.5 2231.5,-762.5 2231.5,-768.5 2225.5,-774.5 2219.5,-774.5\"/>\n<text text-anchor=\"start\" x=\"2124.5\" y=\"-759.3\" font-family=\"Helvetica,sans-Serif\" font-size=\"14.00\" fill=\"#000000\">gini = 0.0</text>\n<text text-anchor=\"start\" x=\"2110\" y=\"-744.3\" font-family=\"Helvetica,sans-Serif\" font-size=\"14.00\" fill=\"#000000\">samples = 20</text>\n<text text-anchor=\"start\" x=\"2084.5\" y=\"-729.3\" font-family=\"Helvetica,sans-Serif\" font-size=\"14.00\" fill=\"#000000\">value = [0, 0, 0, 0, 20]</text>\n<text text-anchor=\"start\" x=\"2125\" y=\"-714.3\" font-family=\"Helvetica,sans-Serif\" font-size=\"14.00\" fill=\"#000000\">class = 4</text>\n</g>\n<!-- 22&#45;&gt;66 -->\n<g id=\"edge66\" class=\"edge\">\n<title>22&#45;&gt;66</title>\n<path fill=\"none\" stroke=\"#000000\" d=\"M1980.9364,-817.9585C2009.0791,-806.6448 2039.3082,-794.15 2067,-782 2069.3465,-780.9704 2071.7236,-779.9155 2074.1193,-778.8421\"/>\n<polygon fill=\"#000000\" stroke=\"#000000\" points=\"2075.7627,-781.94 2083.4256,-774.6235 2072.8726,-775.5644 2075.7627,-781.94\"/>\n</g>\n<!-- 24 -->\n<g id=\"node25\" class=\"node\">\n<title>24</title>\n<path fill=\"#c2f3a3\" stroke=\"#000000\" d=\"M2020,-663C2020,-663 1728,-663 1728,-663 1722,-663 1716,-657 1716,-651 1716,-651 1716,-592 1716,-592 1716,-586 1722,-580 1728,-580 1728,-580 2020,-580 2020,-580 2026,-580 2032,-586 2032,-592 2032,-592 2032,-651 2032,-651 2032,-657 2026,-663 2020,-663\"/>\n<text text-anchor=\"start\" x=\"1724\" y=\"-647.8\" font-family=\"Helvetica,sans-Serif\" font-size=\"14.00\" fill=\"#000000\">Intensity_StdIntensityEdge_BF_image ≤ 0.001</text>\n<text text-anchor=\"start\" x=\"1836\" y=\"-632.8\" font-family=\"Helvetica,sans-Serif\" font-size=\"14.00\" fill=\"#000000\">gini = 0.604</text>\n<text text-anchor=\"start\" x=\"1826\" y=\"-617.8\" font-family=\"Helvetica,sans-Serif\" font-size=\"14.00\" fill=\"#000000\">samples = 144</text>\n<text text-anchor=\"start\" x=\"1796.5\" y=\"-602.8\" font-family=\"Helvetica,sans-Serif\" font-size=\"14.00\" fill=\"#000000\">value = [25, 82, 28, 9, 0]</text>\n<text text-anchor=\"start\" x=\"1845\" y=\"-587.8\" font-family=\"Helvetica,sans-Serif\" font-size=\"14.00\" fill=\"#000000\">class = 0</text>\n</g>\n<!-- 23&#45;&gt;24 -->\n<g id=\"edge24\" class=\"edge\">\n<title>23&#45;&gt;24</title>\n<path fill=\"none\" stroke=\"#000000\" d=\"M1874,-698.8796C1874,-690.6838 1874,-681.9891 1874,-673.5013\"/>\n<polygon fill=\"#000000\" stroke=\"#000000\" points=\"1877.5001,-673.298 1874,-663.2981 1870.5001,-673.2981 1877.5001,-673.298\"/>\n</g>\n<!-- 43 -->\n<g id=\"node44\" class=\"node\">\n<title>43</title>\n<path fill=\"#f6d3ba\" stroke=\"#000000\" d=\"M2800.5,-663C2800.5,-663 2461.5,-663 2461.5,-663 2455.5,-663 2449.5,-657 2449.5,-651 2449.5,-651 2449.5,-592 2449.5,-592 2449.5,-586 2455.5,-580 2461.5,-580 2461.5,-580 2800.5,-580 2800.5,-580 2806.5,-580 2812.5,-586 2812.5,-592 2812.5,-592 2812.5,-651 2812.5,-651 2812.5,-657 2806.5,-663 2800.5,-663\"/>\n<text text-anchor=\"start\" x=\"2457.5\" y=\"-647.8\" font-family=\"Helvetica,sans-Serif\" font-size=\"14.00\" fill=\"#000000\">RadialDistribution_RadialCV_BF_image_2of4 ≤ 0.068</text>\n<text text-anchor=\"start\" x=\"2593\" y=\"-632.8\" font-family=\"Helvetica,sans-Serif\" font-size=\"14.00\" fill=\"#000000\">gini = 0.509</text>\n<text text-anchor=\"start\" x=\"2583\" y=\"-617.8\" font-family=\"Helvetica,sans-Serif\" font-size=\"14.00\" fill=\"#000000\">samples = 147</text>\n<text text-anchor=\"start\" x=\"2557.5\" y=\"-602.8\" font-family=\"Helvetica,sans-Serif\" font-size=\"14.00\" fill=\"#000000\">value = [87, 55, 5, 0, 0]</text>\n<text text-anchor=\"start\" x=\"2602\" y=\"-587.8\" font-family=\"Helvetica,sans-Serif\" font-size=\"14.00\" fill=\"#000000\">class = 3</text>\n</g>\n<!-- 23&#45;&gt;43 -->\n<g id=\"edge43\" class=\"edge\">\n<title>23&#45;&gt;43</title>\n<path fill=\"none\" stroke=\"#000000\" d=\"M2058.0739,-700.5965C2061.0694,-700.0524 2064.0465,-699.5197 2067,-699 2190.4207,-677.2827 2329.9364,-658.0667 2439.3286,-644.2017\"/>\n<polygon fill=\"#000000\" stroke=\"#000000\" points=\"2440.0017,-647.6446 2449.4843,-642.9189 2439.1245,-640.6998 2440.0017,-647.6446\"/>\n</g>\n<!-- 25 -->\n<g id=\"node26\" class=\"node\">\n<title>25</title>\n<path fill=\"#bbf299\" stroke=\"#000000\" d=\"M2018,-544C2018,-544 1674,-544 1674,-544 1668,-544 1662,-538 1662,-532 1662,-532 1662,-473 1662,-473 1662,-467 1668,-461 1674,-461 1674,-461 2018,-461 2018,-461 2024,-461 2030,-467 2030,-473 2030,-473 2030,-532 2030,-532 2030,-538 2024,-544 2018,-544\"/>\n<text text-anchor=\"start\" x=\"1670\" y=\"-528.8\" font-family=\"Helvetica,sans-Serif\" font-size=\"14.00\" fill=\"#000000\">RadialDistribution_MeanFrac_BF_image_4of4 ≤ 0.876</text>\n<text text-anchor=\"start\" x=\"1812.5\" y=\"-513.8\" font-family=\"Helvetica,sans-Serif\" font-size=\"14.00\" fill=\"#000000\">gini = 0.55</text>\n<text text-anchor=\"start\" x=\"1798\" y=\"-498.8\" font-family=\"Helvetica,sans-Serif\" font-size=\"14.00\" fill=\"#000000\">samples = 134</text>\n<text text-anchor=\"start\" x=\"1768.5\" y=\"-483.8\" font-family=\"Helvetica,sans-Serif\" font-size=\"14.00\" fill=\"#000000\">value = [25, 82, 27, 0, 0]</text>\n<text text-anchor=\"start\" x=\"1817\" y=\"-468.8\" font-family=\"Helvetica,sans-Serif\" font-size=\"14.00\" fill=\"#000000\">class = 0</text>\n</g>\n<!-- 24&#45;&gt;25 -->\n<g id=\"edge25\" class=\"edge\">\n<title>24&#45;&gt;25</title>\n<path fill=\"none\" stroke=\"#000000\" d=\"M1864.207,-579.8796C1862.2574,-571.5938 1860.1878,-562.798 1858.1698,-554.2216\"/>\n<polygon fill=\"#000000\" stroke=\"#000000\" points=\"1861.5323,-553.2306 1855.8348,-544.2981 1854.7183,-554.8339 1861.5323,-553.2306\"/>\n</g>\n<!-- 40 -->\n<g id=\"node41\" class=\"node\">\n<title>40</title>\n<path fill=\"#524fe8\" stroke=\"#000000\" d=\"M2364,-544C2364,-544 2060,-544 2060,-544 2054,-544 2048,-538 2048,-532 2048,-532 2048,-473 2048,-473 2048,-467 2054,-461 2060,-461 2060,-461 2364,-461 2364,-461 2370,-461 2376,-467 2376,-473 2376,-473 2376,-532 2376,-532 2376,-538 2370,-544 2364,-544\"/>\n<text text-anchor=\"start\" x=\"2056\" y=\"-528.8\" font-family=\"Helvetica,sans-Serif\" font-size=\"14.00\" fill=\"#000000\">Texture_SumVariance_BF_image_3_90 ≤ 5.462</text>\n<text text-anchor=\"start\" x=\"2178.5\" y=\"-513.8\" font-family=\"Helvetica,sans-Serif\" font-size=\"14.00\" fill=\"#000000\">gini = 0.18</text>\n<text text-anchor=\"start\" x=\"2168\" y=\"-498.8\" font-family=\"Helvetica,sans-Serif\" font-size=\"14.00\" fill=\"#000000\">samples = 10</text>\n<text text-anchor=\"start\" x=\"2147\" y=\"-483.8\" font-family=\"Helvetica,sans-Serif\" font-size=\"14.00\" fill=\"#000000\">value = [0, 0, 1, 9, 0]</text>\n<text text-anchor=\"start\" x=\"2183\" y=\"-468.8\" font-family=\"Helvetica,sans-Serif\" font-size=\"14.00\" fill=\"#000000\">class = 1</text>\n</g>\n<!-- 24&#45;&gt;40 -->\n<g id=\"edge40\" class=\"edge\">\n<title>24&#45;&gt;40</title>\n<path fill=\"none\" stroke=\"#000000\" d=\"M1992.216,-579.8796C2021.9338,-569.4168 2053.9612,-558.1409 2084.1273,-547.5203\"/>\n<polygon fill=\"#000000\" stroke=\"#000000\" points=\"2085.5806,-550.7193 2093.8508,-544.0969 2083.2559,-544.1165 2085.5806,-550.7193\"/>\n</g>\n<!-- 26 -->\n<g id=\"node27\" class=\"node\">\n<title>26</title>\n<path fill=\"#b5f090\" stroke=\"#000000\" d=\"M1762,-425C1762,-425 1562,-425 1562,-425 1556,-425 1550,-419 1550,-413 1550,-413 1550,-354 1550,-354 1550,-348 1556,-342 1562,-342 1562,-342 1762,-342 1762,-342 1768,-342 1774,-348 1774,-354 1774,-354 1774,-413 1774,-413 1774,-419 1768,-425 1762,-425\"/>\n<text text-anchor=\"start\" x=\"1558\" y=\"-409.8\" font-family=\"Helvetica,sans-Serif\" font-size=\"14.00\" fill=\"#000000\">AreaShape_Eccentricity ≤ 0.345</text>\n<text text-anchor=\"start\" x=\"1628.5\" y=\"-394.8\" font-family=\"Helvetica,sans-Serif\" font-size=\"14.00\" fill=\"#000000\">gini = 0.52</text>\n<text text-anchor=\"start\" x=\"1614\" y=\"-379.8\" font-family=\"Helvetica,sans-Serif\" font-size=\"14.00\" fill=\"#000000\">samples = 127</text>\n<text text-anchor=\"start\" x=\"1584.5\" y=\"-364.8\" font-family=\"Helvetica,sans-Serif\" font-size=\"14.00\" fill=\"#000000\">value = [25, 82, 20, 0, 0]</text>\n<text text-anchor=\"start\" x=\"1633\" y=\"-349.8\" font-family=\"Helvetica,sans-Serif\" font-size=\"14.00\" fill=\"#000000\">class = 0</text>\n</g>\n<!-- 25&#45;&gt;26 -->\n<g id=\"edge26\" class=\"edge\">\n<title>25&#45;&gt;26</title>\n<path fill=\"none\" stroke=\"#000000\" d=\"M1781.6457,-460.8796C1766.5185,-451.0962 1750.2919,-440.6019 1734.8224,-430.5971\"/>\n<polygon fill=\"#000000\" stroke=\"#000000\" points=\"1736.6156,-427.5887 1726.3179,-425.0969 1732.8141,-433.4665 1736.6156,-427.5887\"/>\n</g>\n<!-- 39 -->\n<g id=\"node40\" class=\"node\">\n<title>39</title>\n<path fill=\"#39e5c5\" stroke=\"#000000\" d=\"M1926,-417.5C1926,-417.5 1804,-417.5 1804,-417.5 1798,-417.5 1792,-411.5 1792,-405.5 1792,-405.5 1792,-361.5 1792,-361.5 1792,-355.5 1798,-349.5 1804,-349.5 1804,-349.5 1926,-349.5 1926,-349.5 1932,-349.5 1938,-355.5 1938,-361.5 1938,-361.5 1938,-405.5 1938,-405.5 1938,-411.5 1932,-417.5 1926,-417.5\"/>\n<text text-anchor=\"start\" x=\"1835.5\" y=\"-402.3\" font-family=\"Helvetica,sans-Serif\" font-size=\"14.00\" fill=\"#000000\">gini = 0.0</text>\n<text text-anchor=\"start\" x=\"1825.5\" y=\"-387.3\" font-family=\"Helvetica,sans-Serif\" font-size=\"14.00\" fill=\"#000000\">samples = 7</text>\n<text text-anchor=\"start\" x=\"1800\" y=\"-372.3\" font-family=\"Helvetica,sans-Serif\" font-size=\"14.00\" fill=\"#000000\">value = [0, 0, 7, 0, 0]</text>\n<text text-anchor=\"start\" x=\"1836\" y=\"-357.3\" font-family=\"Helvetica,sans-Serif\" font-size=\"14.00\" fill=\"#000000\">class = 2</text>\n</g>\n<!-- 25&#45;&gt;39 -->\n<g id=\"edge39\" class=\"edge\">\n<title>25&#45;&gt;39</title>\n<path fill=\"none\" stroke=\"#000000\" d=\"M1852.6453,-460.8796C1854.3483,-450.2134 1856.1862,-438.7021 1857.9107,-427.9015\"/>\n<polygon fill=\"#000000\" stroke=\"#000000\" points=\"1861.4006,-428.2417 1859.5211,-417.8149 1854.4882,-427.138 1861.4006,-428.2417\"/>\n</g>\n<!-- 27 -->\n<g id=\"node28\" class=\"node\">\n<title>27</title>\n<path fill=\"#a5ed78\" stroke=\"#000000\" d=\"M1689.5,-306C1689.5,-306 1406.5,-306 1406.5,-306 1400.5,-306 1394.5,-300 1394.5,-294 1394.5,-294 1394.5,-235 1394.5,-235 1394.5,-229 1400.5,-223 1406.5,-223 1406.5,-223 1689.5,-223 1689.5,-223 1695.5,-223 1701.5,-229 1701.5,-235 1701.5,-235 1701.5,-294 1701.5,-294 1701.5,-300 1695.5,-306 1689.5,-306\"/>\n<text text-anchor=\"start\" x=\"1402.5\" y=\"-290.8\" font-family=\"Helvetica,sans-Serif\" font-size=\"14.00\" fill=\"#000000\">Texture_Variance_DF_image_3_135 ≤ 0.319</text>\n<text text-anchor=\"start\" x=\"1510\" y=\"-275.8\" font-family=\"Helvetica,sans-Serif\" font-size=\"14.00\" fill=\"#000000\">gini = 0.418</text>\n<text text-anchor=\"start\" x=\"1504\" y=\"-260.8\" font-family=\"Helvetica,sans-Serif\" font-size=\"14.00\" fill=\"#000000\">samples = 95</text>\n<text text-anchor=\"start\" x=\"1474.5\" y=\"-245.8\" font-family=\"Helvetica,sans-Serif\" font-size=\"14.00\" fill=\"#000000\">value = [17, 70, 8, 0, 0]</text>\n<text text-anchor=\"start\" x=\"1519\" y=\"-230.8\" font-family=\"Helvetica,sans-Serif\" font-size=\"14.00\" fill=\"#000000\">class = 0</text>\n</g>\n<!-- 26&#45;&gt;27 -->\n<g id=\"edge27\" class=\"edge\">\n<title>26&#45;&gt;27</title>\n<path fill=\"none\" stroke=\"#000000\" d=\"M1622.1283,-341.8796C1613.4142,-332.7832 1604.1112,-323.0722 1595.1438,-313.7116\"/>\n<polygon fill=\"#000000\" stroke=\"#000000\" points=\"1597.487,-311.098 1588.0419,-306.2981 1592.4322,-315.9405 1597.487,-311.098\"/>\n</g>\n<!-- 34 -->\n<g id=\"node35\" class=\"node\">\n<title>34</title>\n<path fill=\"#ffffff\" stroke=\"#000000\" d=\"M2038.5,-306C2038.5,-306 1731.5,-306 1731.5,-306 1725.5,-306 1719.5,-300 1719.5,-294 1719.5,-294 1719.5,-235 1719.5,-235 1719.5,-229 1725.5,-223 1731.5,-223 1731.5,-223 2038.5,-223 2038.5,-223 2044.5,-223 2050.5,-229 2050.5,-235 2050.5,-235 2050.5,-294 2050.5,-294 2050.5,-300 2044.5,-306 2038.5,-306\"/>\n<text text-anchor=\"start\" x=\"1727.5\" y=\"-290.8\" font-family=\"Helvetica,sans-Serif\" font-size=\"14.00\" fill=\"#000000\">Intensity_MeanIntensityEdge_BF_image ≤ 0.002</text>\n<text text-anchor=\"start\" x=\"1847\" y=\"-275.8\" font-family=\"Helvetica,sans-Serif\" font-size=\"14.00\" fill=\"#000000\">gini = 0.656</text>\n<text text-anchor=\"start\" x=\"1841\" y=\"-260.8\" font-family=\"Helvetica,sans-Serif\" font-size=\"14.00\" fill=\"#000000\">samples = 32</text>\n<text text-anchor=\"start\" x=\"1811.5\" y=\"-245.8\" font-family=\"Helvetica,sans-Serif\" font-size=\"14.00\" fill=\"#000000\">value = [8, 12, 12, 0, 0]</text>\n<text text-anchor=\"start\" x=\"1856\" y=\"-230.8\" font-family=\"Helvetica,sans-Serif\" font-size=\"14.00\" fill=\"#000000\">class = 0</text>\n</g>\n<!-- 26&#45;&gt;34 -->\n<g id=\"edge34\" class=\"edge\">\n<title>26&#45;&gt;34</title>\n<path fill=\"none\" stroke=\"#000000\" d=\"M1739.9946,-341.8796C1758.7525,-331.8697 1778.9052,-321.1156 1798.0428,-310.9031\"/>\n<polygon fill=\"#000000\" stroke=\"#000000\" points=\"1799.8748,-313.8928 1807.0495,-306.0969 1796.5792,-307.7171 1799.8748,-313.8928\"/>\n</g>\n<!-- 28 -->\n<g id=\"node29\" class=\"node\">\n<title>28</title>\n<path fill=\"#c7f4ac\" stroke=\"#000000\" d=\"M1381,-187C1381,-187 1175,-187 1175,-187 1169,-187 1163,-181 1163,-175 1163,-175 1163,-116 1163,-116 1163,-110 1169,-104 1175,-104 1175,-104 1381,-104 1381,-104 1387,-104 1393,-110 1393,-116 1393,-116 1393,-175 1393,-175 1393,-181 1387,-187 1381,-187\"/>\n<text text-anchor=\"start\" x=\"1171\" y=\"-171.8\" font-family=\"Helvetica,sans-Serif\" font-size=\"14.00\" fill=\"#000000\">Granularity_5_BF_image ≤ 4.682</text>\n<text text-anchor=\"start\" x=\"1240\" y=\"-156.8\" font-family=\"Helvetica,sans-Serif\" font-size=\"14.00\" fill=\"#000000\">gini = 0.549</text>\n<text text-anchor=\"start\" x=\"1234\" y=\"-141.8\" font-family=\"Helvetica,sans-Serif\" font-size=\"14.00\" fill=\"#000000\">samples = 54</text>\n<text text-anchor=\"start\" x=\"1204.5\" y=\"-126.8\" font-family=\"Helvetica,sans-Serif\" font-size=\"14.00\" fill=\"#000000\">value = [16, 32, 6, 0, 0]</text>\n<text text-anchor=\"start\" x=\"1249\" y=\"-111.8\" font-family=\"Helvetica,sans-Serif\" font-size=\"14.00\" fill=\"#000000\">class = 0</text>\n</g>\n<!-- 27&#45;&gt;28 -->\n<g id=\"edge28\" class=\"edge\">\n<title>27&#45;&gt;28</title>\n<path fill=\"none\" stroke=\"#000000\" d=\"M1453.5671,-222.8796C1430.3419,-212.6433 1405.3507,-201.6286 1381.7137,-191.2108\"/>\n<polygon fill=\"#000000\" stroke=\"#000000\" points=\"1382.9418,-187.9273 1372.3796,-187.0969 1380.1186,-194.3328 1382.9418,-187.9273\"/>\n</g>\n<!-- 31 -->\n<g id=\"node32\" class=\"node\">\n<title>31</title>\n<path fill=\"#85e748\" stroke=\"#000000\" d=\"M1695,-187C1695,-187 1423,-187 1423,-187 1417,-187 1411,-181 1411,-175 1411,-175 1411,-116 1411,-116 1411,-110 1417,-104 1423,-104 1423,-104 1695,-104 1695,-104 1701,-104 1707,-110 1707,-116 1707,-116 1707,-175 1707,-175 1707,-181 1701,-187 1695,-187\"/>\n<text text-anchor=\"start\" x=\"1419\" y=\"-171.8\" font-family=\"Helvetica,sans-Serif\" font-size=\"14.00\" fill=\"#000000\">Texture_Contrast_BF_image_3_45 ≤ 2.566</text>\n<text text-anchor=\"start\" x=\"1521\" y=\"-156.8\" font-family=\"Helvetica,sans-Serif\" font-size=\"14.00\" fill=\"#000000\">gini = 0.138</text>\n<text text-anchor=\"start\" x=\"1515\" y=\"-141.8\" font-family=\"Helvetica,sans-Serif\" font-size=\"14.00\" fill=\"#000000\">samples = 41</text>\n<text text-anchor=\"start\" x=\"1489.5\" y=\"-126.8\" font-family=\"Helvetica,sans-Serif\" font-size=\"14.00\" fill=\"#000000\">value = [1, 38, 2, 0, 0]</text>\n<text text-anchor=\"start\" x=\"1530\" y=\"-111.8\" font-family=\"Helvetica,sans-Serif\" font-size=\"14.00\" fill=\"#000000\">class = 0</text>\n</g>\n<!-- 27&#45;&gt;31 -->\n<g id=\"edge31\" class=\"edge\">\n<title>27&#45;&gt;31</title>\n<path fill=\"none\" stroke=\"#000000\" d=\"M1551.8473,-222.8796C1552.6049,-214.6838 1553.4086,-205.9891 1554.1932,-197.5013\"/>\n<polygon fill=\"#000000\" stroke=\"#000000\" points=\"1557.7009,-197.5778 1555.1363,-187.2981 1550.7306,-196.9334 1557.7009,-197.5778\"/>\n</g>\n<!-- 29 -->\n<g id=\"node30\" class=\"node\">\n<title>29</title>\n<path fill=\"#a2ed74\" stroke=\"#000000\" d=\"M1189.5,-68C1189.5,-68 1058.5,-68 1058.5,-68 1052.5,-68 1046.5,-62 1046.5,-56 1046.5,-56 1046.5,-12 1046.5,-12 1046.5,-6 1052.5,0 1058.5,0 1058.5,0 1189.5,0 1189.5,0 1195.5,0 1201.5,-6 1201.5,-12 1201.5,-12 1201.5,-56 1201.5,-56 1201.5,-62 1195.5,-68 1189.5,-68\"/>\n<text text-anchor=\"start\" x=\"1086\" y=\"-52.8\" font-family=\"Helvetica,sans-Serif\" font-size=\"14.00\" fill=\"#000000\">gini = 0.416</text>\n<text text-anchor=\"start\" x=\"1080\" y=\"-37.8\" font-family=\"Helvetica,sans-Serif\" font-size=\"14.00\" fill=\"#000000\">samples = 31</text>\n<text text-anchor=\"start\" x=\"1054.5\" y=\"-22.8\" font-family=\"Helvetica,sans-Serif\" font-size=\"14.00\" fill=\"#000000\">value = [4, 23, 4, 0, 0]</text>\n<text text-anchor=\"start\" x=\"1095\" y=\"-7.8\" font-family=\"Helvetica,sans-Serif\" font-size=\"14.00\" fill=\"#000000\">class = 0</text>\n</g>\n<!-- 28&#45;&gt;29 -->\n<g id=\"edge29\" class=\"edge\">\n<title>28&#45;&gt;29</title>\n<path fill=\"none\" stroke=\"#000000\" d=\"M1220.6561,-103.9815C1207.2006,-94.2394 1192.8869,-83.8759 1179.5133,-74.193\"/>\n<polygon fill=\"#000000\" stroke=\"#000000\" points=\"1181.4763,-71.2933 1171.3238,-68.2637 1177.3711,-76.9632 1181.4763,-71.2933\"/>\n</g>\n<!-- 30 -->\n<g id=\"node31\" class=\"node\">\n<title>30</title>\n<path fill=\"#f9e4d5\" stroke=\"#000000\" d=\"M1362.5,-68C1362.5,-68 1231.5,-68 1231.5,-68 1225.5,-68 1219.5,-62 1219.5,-56 1219.5,-56 1219.5,-12 1219.5,-12 1219.5,-6 1225.5,0 1231.5,0 1231.5,0 1362.5,0 1362.5,0 1368.5,0 1374.5,-6 1374.5,-12 1374.5,-12 1374.5,-56 1374.5,-56 1374.5,-62 1368.5,-68 1362.5,-68\"/>\n<text text-anchor=\"start\" x=\"1259\" y=\"-52.8\" font-family=\"Helvetica,sans-Serif\" font-size=\"14.00\" fill=\"#000000\">gini = 0.567</text>\n<text text-anchor=\"start\" x=\"1253\" y=\"-37.8\" font-family=\"Helvetica,sans-Serif\" font-size=\"14.00\" fill=\"#000000\">samples = 23</text>\n<text text-anchor=\"start\" x=\"1227.5\" y=\"-22.8\" font-family=\"Helvetica,sans-Serif\" font-size=\"14.00\" fill=\"#000000\">value = [12, 9, 2, 0, 0]</text>\n<text text-anchor=\"start\" x=\"1268\" y=\"-7.8\" font-family=\"Helvetica,sans-Serif\" font-size=\"14.00\" fill=\"#000000\">class = 3</text>\n</g>\n<!-- 28&#45;&gt;30 -->\n<g id=\"edge30\" class=\"edge\">\n<title>28&#45;&gt;30</title>\n<path fill=\"none\" stroke=\"#000000\" d=\"M1285.0749,-103.9815C1286.5001,-95.618 1288.0033,-86.7965 1289.4442,-78.3409\"/>\n<polygon fill=\"#000000\" stroke=\"#000000\" points=\"1292.9317,-78.7095 1291.1613,-68.2637 1286.0312,-77.5336 1292.9317,-78.7095\"/>\n</g>\n<!-- 32 -->\n<g id=\"node33\" class=\"node\">\n<title>32</title>\n<path fill=\"#ffffff\" stroke=\"#000000\" d=\"M1559,-68C1559,-68 1437,-68 1437,-68 1431,-68 1425,-62 1425,-56 1425,-56 1425,-12 1425,-12 1425,-6 1431,0 1437,0 1437,0 1559,0 1559,0 1565,0 1571,-6 1571,-12 1571,-12 1571,-56 1571,-56 1571,-62 1565,-68 1559,-68\"/>\n<text text-anchor=\"start\" x=\"1464.5\" y=\"-52.8\" font-family=\"Helvetica,sans-Serif\" font-size=\"14.00\" fill=\"#000000\">gini = 0.64</text>\n<text text-anchor=\"start\" x=\"1458.5\" y=\"-37.8\" font-family=\"Helvetica,sans-Serif\" font-size=\"14.00\" fill=\"#000000\">samples = 5</text>\n<text text-anchor=\"start\" x=\"1433\" y=\"-22.8\" font-family=\"Helvetica,sans-Serif\" font-size=\"14.00\" fill=\"#000000\">value = [1, 2, 2, 0, 0]</text>\n<text text-anchor=\"start\" x=\"1469\" y=\"-7.8\" font-family=\"Helvetica,sans-Serif\" font-size=\"14.00\" fill=\"#000000\">class = 0</text>\n</g>\n<!-- 31&#45;&gt;32 -->\n<g id=\"edge32\" class=\"edge\">\n<title>31&#45;&gt;32</title>\n<path fill=\"none\" stroke=\"#000000\" d=\"M1536.2859,-103.9815C1531.5092,-95.2504 1526.4595,-86.0202 1521.6494,-77.2281\"/>\n<polygon fill=\"#000000\" stroke=\"#000000\" points=\"1524.6153,-75.3568 1516.7451,-68.2637 1518.4742,-78.7165 1524.6153,-75.3568\"/>\n</g>\n<!-- 33 -->\n<g id=\"node34\" class=\"node\">\n<title>33</title>\n<path fill=\"#7be539\" stroke=\"#000000\" d=\"M1732.5,-68C1732.5,-68 1601.5,-68 1601.5,-68 1595.5,-68 1589.5,-62 1589.5,-56 1589.5,-56 1589.5,-12 1589.5,-12 1589.5,-6 1595.5,0 1601.5,0 1601.5,0 1732.5,0 1732.5,0 1738.5,0 1744.5,-6 1744.5,-12 1744.5,-12 1744.5,-56 1744.5,-56 1744.5,-62 1738.5,-68 1732.5,-68\"/>\n<text text-anchor=\"start\" x=\"1637.5\" y=\"-52.8\" font-family=\"Helvetica,sans-Serif\" font-size=\"14.00\" fill=\"#000000\">gini = 0.0</text>\n<text text-anchor=\"start\" x=\"1623\" y=\"-37.8\" font-family=\"Helvetica,sans-Serif\" font-size=\"14.00\" fill=\"#000000\">samples = 36</text>\n<text text-anchor=\"start\" x=\"1597.5\" y=\"-22.8\" font-family=\"Helvetica,sans-Serif\" font-size=\"14.00\" fill=\"#000000\">value = [0, 36, 0, 0, 0]</text>\n<text text-anchor=\"start\" x=\"1638\" y=\"-7.8\" font-family=\"Helvetica,sans-Serif\" font-size=\"14.00\" fill=\"#000000\">class = 0</text>\n</g>\n<!-- 31&#45;&gt;33 -->\n<g id=\"edge33\" class=\"edge\">\n<title>31&#45;&gt;33</title>\n<path fill=\"none\" stroke=\"#000000\" d=\"M1599.2152,-103.9815C1608.2064,-94.6989 1617.744,-84.8522 1626.7371,-75.5677\"/>\n<polygon fill=\"#000000\" stroke=\"#000000\" points=\"1629.3684,-77.8817 1633.8119,-68.2637 1624.3404,-73.0115 1629.3684,-77.8817\"/>\n</g>\n<!-- 35 -->\n<g id=\"node36\" class=\"node\">\n<title>35</title>\n<path fill=\"#e2f9d3\" stroke=\"#000000\" d=\"M1991.5,-187C1991.5,-187 1758.5,-187 1758.5,-187 1752.5,-187 1746.5,-181 1746.5,-175 1746.5,-175 1746.5,-116 1746.5,-116 1746.5,-110 1752.5,-104 1758.5,-104 1758.5,-104 1991.5,-104 1991.5,-104 1997.5,-104 2003.5,-110 2003.5,-116 2003.5,-116 2003.5,-175 2003.5,-175 2003.5,-181 1997.5,-187 1991.5,-187\"/>\n<text text-anchor=\"start\" x=\"1754.5\" y=\"-171.8\" font-family=\"Helvetica,sans-Serif\" font-size=\"14.00\" fill=\"#000000\">Texture_Gabor_DF_image_3 ≤ 3.429</text>\n<text text-anchor=\"start\" x=\"1837\" y=\"-156.8\" font-family=\"Helvetica,sans-Serif\" font-size=\"14.00\" fill=\"#000000\">gini = 0.639</text>\n<text text-anchor=\"start\" x=\"1831\" y=\"-141.8\" font-family=\"Helvetica,sans-Serif\" font-size=\"14.00\" fill=\"#000000\">samples = 26</text>\n<text text-anchor=\"start\" x=\"1805.5\" y=\"-126.8\" font-family=\"Helvetica,sans-Serif\" font-size=\"14.00\" fill=\"#000000\">value = [8, 12, 6, 0, 0]</text>\n<text text-anchor=\"start\" x=\"1846\" y=\"-111.8\" font-family=\"Helvetica,sans-Serif\" font-size=\"14.00\" fill=\"#000000\">class = 0</text>\n</g>\n<!-- 34&#45;&gt;35 -->\n<g id=\"edge35\" class=\"edge\">\n<title>34&#45;&gt;35</title>\n<path fill=\"none\" stroke=\"#000000\" d=\"M1881.5025,-222.8796C1880.8138,-214.6838 1880.0831,-205.9891 1879.3699,-197.5013\"/>\n<polygon fill=\"#000000\" stroke=\"#000000\" points=\"1882.8376,-196.9698 1878.5124,-187.2981 1875.8622,-197.5561 1882.8376,-196.9698\"/>\n</g>\n<!-- 38 -->\n<g id=\"node39\" class=\"node\">\n<title>38</title>\n<path fill=\"#39e5c5\" stroke=\"#000000\" d=\"M2156,-179.5C2156,-179.5 2034,-179.5 2034,-179.5 2028,-179.5 2022,-173.5 2022,-167.5 2022,-167.5 2022,-123.5 2022,-123.5 2022,-117.5 2028,-111.5 2034,-111.5 2034,-111.5 2156,-111.5 2156,-111.5 2162,-111.5 2168,-117.5 2168,-123.5 2168,-123.5 2168,-167.5 2168,-167.5 2168,-173.5 2162,-179.5 2156,-179.5\"/>\n<text text-anchor=\"start\" x=\"2065.5\" y=\"-164.3\" font-family=\"Helvetica,sans-Serif\" font-size=\"14.00\" fill=\"#000000\">gini = 0.0</text>\n<text text-anchor=\"start\" x=\"2055.5\" y=\"-149.3\" font-family=\"Helvetica,sans-Serif\" font-size=\"14.00\" fill=\"#000000\">samples = 6</text>\n<text text-anchor=\"start\" x=\"2030\" y=\"-134.3\" font-family=\"Helvetica,sans-Serif\" font-size=\"14.00\" fill=\"#000000\">value = [0, 0, 6, 0, 0]</text>\n<text text-anchor=\"start\" x=\"2066\" y=\"-119.3\" font-family=\"Helvetica,sans-Serif\" font-size=\"14.00\" fill=\"#000000\">class = 2</text>\n</g>\n<!-- 34&#45;&gt;38 -->\n<g id=\"edge38\" class=\"edge\">\n<title>34&#45;&gt;38</title>\n<path fill=\"none\" stroke=\"#000000\" d=\"M1958.4478,-222.8796C1980.3822,-210.4501 2004.3418,-196.873 2025.9818,-184.6103\"/>\n<polygon fill=\"#000000\" stroke=\"#000000\" points=\"2027.8082,-187.5983 2034.7829,-179.623 2024.3571,-181.5081 2027.8082,-187.5983\"/>\n</g>\n<!-- 36 -->\n<g id=\"node37\" class=\"node\">\n<title>36</title>\n<path fill=\"#bdf29c\" stroke=\"#000000\" d=\"M1921.5,-68C1921.5,-68 1790.5,-68 1790.5,-68 1784.5,-68 1778.5,-62 1778.5,-56 1778.5,-56 1778.5,-12 1778.5,-12 1778.5,-6 1784.5,0 1790.5,0 1790.5,0 1921.5,0 1921.5,0 1927.5,0 1933.5,-6 1933.5,-12 1933.5,-12 1933.5,-56 1933.5,-56 1933.5,-62 1927.5,-68 1921.5,-68\"/>\n<text text-anchor=\"start\" x=\"1818\" y=\"-52.8\" font-family=\"Helvetica,sans-Serif\" font-size=\"14.00\" fill=\"#000000\">gini = 0.521</text>\n<text text-anchor=\"start\" x=\"1812\" y=\"-37.8\" font-family=\"Helvetica,sans-Serif\" font-size=\"14.00\" fill=\"#000000\">samples = 19</text>\n<text text-anchor=\"start\" x=\"1786.5\" y=\"-22.8\" font-family=\"Helvetica,sans-Serif\" font-size=\"14.00\" fill=\"#000000\">value = [2, 12, 5, 0, 0]</text>\n<text text-anchor=\"start\" x=\"1827\" y=\"-7.8\" font-family=\"Helvetica,sans-Serif\" font-size=\"14.00\" fill=\"#000000\">class = 0</text>\n</g>\n<!-- 35&#45;&gt;36 -->\n<g id=\"edge36\" class=\"edge\">\n<title>35&#45;&gt;36</title>\n<path fill=\"none\" stroke=\"#000000\" d=\"M1867.9251,-103.9815C1866.4999,-95.618 1864.9967,-86.7965 1863.5558,-78.3409\"/>\n<polygon fill=\"#000000\" stroke=\"#000000\" points=\"1866.9688,-77.5336 1861.8387,-68.2637 1860.0683,-78.7095 1866.9688,-77.5336\"/>\n</g>\n<!-- 37 -->\n<g id=\"node38\" class=\"node\">\n<title>37</title>\n<path fill=\"#e9965a\" stroke=\"#000000\" d=\"M2086,-68C2086,-68 1964,-68 1964,-68 1958,-68 1952,-62 1952,-56 1952,-56 1952,-12 1952,-12 1952,-6 1958,0 1964,0 1964,0 2086,0 2086,0 2092,0 2098,-6 2098,-12 2098,-12 2098,-56 2098,-56 2098,-62 2092,-68 2086,-68\"/>\n<text text-anchor=\"start\" x=\"1987\" y=\"-52.8\" font-family=\"Helvetica,sans-Serif\" font-size=\"14.00\" fill=\"#000000\">gini = 0.245</text>\n<text text-anchor=\"start\" x=\"1985.5\" y=\"-37.8\" font-family=\"Helvetica,sans-Serif\" font-size=\"14.00\" fill=\"#000000\">samples = 7</text>\n<text text-anchor=\"start\" x=\"1960\" y=\"-22.8\" font-family=\"Helvetica,sans-Serif\" font-size=\"14.00\" fill=\"#000000\">value = [6, 0, 1, 0, 0]</text>\n<text text-anchor=\"start\" x=\"1996\" y=\"-7.8\" font-family=\"Helvetica,sans-Serif\" font-size=\"14.00\" fill=\"#000000\">class = 3</text>\n</g>\n<!-- 35&#45;&gt;37 -->\n<g id=\"edge37\" class=\"edge\">\n<title>35&#45;&gt;37</title>\n<path fill=\"none\" stroke=\"#000000\" d=\"M1930.8545,-103.9815C1943.8368,-94.3313 1957.6394,-84.0714 1970.5597,-74.4673\"/>\n<polygon fill=\"#000000\" stroke=\"#000000\" points=\"1972.9678,-77.0384 1978.9054,-68.2637 1968.7917,-71.4204 1972.9678,-77.0384\"/>\n</g>\n<!-- 41 -->\n<g id=\"node42\" class=\"node\">\n<title>41</title>\n<path fill=\"#6d6aec\" stroke=\"#000000\" d=\"M2109,-417.5C2109,-417.5 1987,-417.5 1987,-417.5 1981,-417.5 1975,-411.5 1975,-405.5 1975,-405.5 1975,-361.5 1975,-361.5 1975,-355.5 1981,-349.5 1987,-349.5 1987,-349.5 2109,-349.5 2109,-349.5 2115,-349.5 2121,-355.5 2121,-361.5 2121,-361.5 2121,-405.5 2121,-405.5 2121,-411.5 2115,-417.5 2109,-417.5\"/>\n<text text-anchor=\"start\" x=\"2014.5\" y=\"-402.3\" font-family=\"Helvetica,sans-Serif\" font-size=\"14.00\" fill=\"#000000\">gini = 0.32</text>\n<text text-anchor=\"start\" x=\"2008.5\" y=\"-387.3\" font-family=\"Helvetica,sans-Serif\" font-size=\"14.00\" fill=\"#000000\">samples = 5</text>\n<text text-anchor=\"start\" x=\"1983\" y=\"-372.3\" font-family=\"Helvetica,sans-Serif\" font-size=\"14.00\" fill=\"#000000\">value = [0, 0, 1, 4, 0]</text>\n<text text-anchor=\"start\" x=\"2019\" y=\"-357.3\" font-family=\"Helvetica,sans-Serif\" font-size=\"14.00\" fill=\"#000000\">class = 1</text>\n</g>\n<!-- 40&#45;&gt;41 -->\n<g id=\"edge41\" class=\"edge\">\n<title>40&#45;&gt;41</title>\n<path fill=\"none\" stroke=\"#000000\" d=\"M2154.6408,-460.8796C2138.0439,-448.8368 2119.9625,-435.7167 2103.4824,-423.7586\"/>\n<polygon fill=\"#000000\" stroke=\"#000000\" points=\"2105.176,-420.6632 2095.0267,-417.623 2101.0649,-426.3288 2105.176,-420.6632\"/>\n</g>\n<!-- 42 -->\n<g id=\"node43\" class=\"node\">\n<title>42</title>\n<path fill=\"#3c39e5\" stroke=\"#000000\" d=\"M2273,-417.5C2273,-417.5 2151,-417.5 2151,-417.5 2145,-417.5 2139,-411.5 2139,-405.5 2139,-405.5 2139,-361.5 2139,-361.5 2139,-355.5 2145,-349.5 2151,-349.5 2151,-349.5 2273,-349.5 2273,-349.5 2279,-349.5 2285,-355.5 2285,-361.5 2285,-361.5 2285,-405.5 2285,-405.5 2285,-411.5 2279,-417.5 2273,-417.5\"/>\n<text text-anchor=\"start\" x=\"2182.5\" y=\"-402.3\" font-family=\"Helvetica,sans-Serif\" font-size=\"14.00\" fill=\"#000000\">gini = 0.0</text>\n<text text-anchor=\"start\" x=\"2172.5\" y=\"-387.3\" font-family=\"Helvetica,sans-Serif\" font-size=\"14.00\" fill=\"#000000\">samples = 5</text>\n<text text-anchor=\"start\" x=\"2147\" y=\"-372.3\" font-family=\"Helvetica,sans-Serif\" font-size=\"14.00\" fill=\"#000000\">value = [0, 0, 0, 5, 0]</text>\n<text text-anchor=\"start\" x=\"2183\" y=\"-357.3\" font-family=\"Helvetica,sans-Serif\" font-size=\"14.00\" fill=\"#000000\">class = 1</text>\n</g>\n<!-- 40&#45;&gt;42 -->\n<g id=\"edge42\" class=\"edge\">\n<title>40&#45;&gt;42</title>\n<path fill=\"none\" stroke=\"#000000\" d=\"M2212,-460.8796C2212,-450.2134 2212,-438.7021 2212,-427.9015\"/>\n<polygon fill=\"#000000\" stroke=\"#000000\" points=\"2215.5001,-427.8149 2212,-417.8149 2208.5001,-427.815 2215.5001,-427.8149\"/>\n</g>\n<!-- 44 -->\n<g id=\"node45\" class=\"node\">\n<title>44</title>\n<path fill=\"#c6f4a9\" stroke=\"#000000\" d=\"M2816,-544C2816,-544 2446,-544 2446,-544 2440,-544 2434,-538 2434,-532 2434,-532 2434,-473 2434,-473 2434,-467 2440,-461 2446,-461 2446,-461 2816,-461 2816,-461 2822,-461 2828,-467 2828,-473 2828,-473 2828,-532 2828,-532 2828,-538 2822,-544 2816,-544\"/>\n<text text-anchor=\"start\" x=\"2442\" y=\"-528.8\" font-family=\"Helvetica,sans-Serif\" font-size=\"14.00\" fill=\"#000000\">Texture_AngularSecondMoment_BF_image_3_45 ≤ 0.042</text>\n<text text-anchor=\"start\" x=\"2593\" y=\"-513.8\" font-family=\"Helvetica,sans-Serif\" font-size=\"14.00\" fill=\"#000000\">gini = 0.493</text>\n<text text-anchor=\"start\" x=\"2587\" y=\"-498.8\" font-family=\"Helvetica,sans-Serif\" font-size=\"14.00\" fill=\"#000000\">samples = 56</text>\n<text text-anchor=\"start\" x=\"2557.5\" y=\"-483.8\" font-family=\"Helvetica,sans-Serif\" font-size=\"14.00\" fill=\"#000000\">value = [19, 35, 2, 0, 0]</text>\n<text text-anchor=\"start\" x=\"2602\" y=\"-468.8\" font-family=\"Helvetica,sans-Serif\" font-size=\"14.00\" fill=\"#000000\">class = 0</text>\n</g>\n<!-- 43&#45;&gt;44 -->\n<g id=\"edge44\" class=\"edge\">\n<title>43&#45;&gt;44</title>\n<path fill=\"none\" stroke=\"#000000\" d=\"M2631,-579.8796C2631,-571.6838 2631,-562.9891 2631,-554.5013\"/>\n<polygon fill=\"#000000\" stroke=\"#000000\" points=\"2634.5001,-554.298 2631,-544.2981 2627.5001,-554.2981 2634.5001,-554.298\"/>\n</g>\n<!-- 53 -->\n<g id=\"node54\" class=\"node\">\n<title>53</title>\n<path fill=\"#edaa79\" stroke=\"#000000\" d=\"M3105.5,-544C3105.5,-544 2898.5,-544 2898.5,-544 2892.5,-544 2886.5,-538 2886.5,-532 2886.5,-532 2886.5,-473 2886.5,-473 2886.5,-467 2892.5,-461 2898.5,-461 2898.5,-461 3105.5,-461 3105.5,-461 3111.5,-461 3117.5,-467 3117.5,-473 3117.5,-473 3117.5,-532 3117.5,-532 3117.5,-538 3111.5,-544 3105.5,-544\"/>\n<text text-anchor=\"start\" x=\"2894.5\" y=\"-528.8\" font-family=\"Helvetica,sans-Serif\" font-size=\"14.00\" fill=\"#000000\">Granularity_2_DF_image ≤ 1.337</text>\n<text text-anchor=\"start\" x=\"2964\" y=\"-513.8\" font-family=\"Helvetica,sans-Serif\" font-size=\"14.00\" fill=\"#000000\">gini = 0.392</text>\n<text text-anchor=\"start\" x=\"2958\" y=\"-498.8\" font-family=\"Helvetica,sans-Serif\" font-size=\"14.00\" fill=\"#000000\">samples = 91</text>\n<text text-anchor=\"start\" x=\"2928.5\" y=\"-483.8\" font-family=\"Helvetica,sans-Serif\" font-size=\"14.00\" fill=\"#000000\">value = [68, 20, 3, 0, 0]</text>\n<text text-anchor=\"start\" x=\"2973\" y=\"-468.8\" font-family=\"Helvetica,sans-Serif\" font-size=\"14.00\" fill=\"#000000\">class = 3</text>\n</g>\n<!-- 43&#45;&gt;53 -->\n<g id=\"edge53\" class=\"edge\">\n<title>43&#45;&gt;53</title>\n<path fill=\"none\" stroke=\"#000000\" d=\"M2760.4973,-579.9631C2798.1081,-567.8993 2839.1081,-554.7483 2876.4709,-542.764\"/>\n<polygon fill=\"#000000\" stroke=\"#000000\" points=\"2877.9421,-545.9679 2886.3952,-539.5808 2875.804,-539.3024 2877.9421,-545.9679\"/>\n</g>\n<!-- 45 -->\n<g id=\"node46\" class=\"node\">\n<title>45</title>\n<path fill=\"#98eb64\" stroke=\"#000000\" d=\"M2524.5,-425C2524.5,-425 2315.5,-425 2315.5,-425 2309.5,-425 2303.5,-419 2303.5,-413 2303.5,-413 2303.5,-354 2303.5,-354 2303.5,-348 2309.5,-342 2315.5,-342 2315.5,-342 2524.5,-342 2524.5,-342 2530.5,-342 2536.5,-348 2536.5,-354 2536.5,-354 2536.5,-413 2536.5,-413 2536.5,-419 2530.5,-425 2524.5,-425\"/>\n<text text-anchor=\"start\" x=\"2311.5\" y=\"-409.8\" font-family=\"Helvetica,sans-Serif\" font-size=\"14.00\" fill=\"#000000\">AreaShape_MeanRadius ≤ 6.104</text>\n<text text-anchor=\"start\" x=\"2382\" y=\"-394.8\" font-family=\"Helvetica,sans-Serif\" font-size=\"14.00\" fill=\"#000000\">gini = 0.309</text>\n<text text-anchor=\"start\" x=\"2376\" y=\"-379.8\" font-family=\"Helvetica,sans-Serif\" font-size=\"14.00\" fill=\"#000000\">samples = 38</text>\n<text text-anchor=\"start\" x=\"2350.5\" y=\"-364.8\" font-family=\"Helvetica,sans-Serif\" font-size=\"14.00\" fill=\"#000000\">value = [6, 31, 1, 0, 0]</text>\n<text text-anchor=\"start\" x=\"2391\" y=\"-349.8\" font-family=\"Helvetica,sans-Serif\" font-size=\"14.00\" fill=\"#000000\">class = 0</text>\n</g>\n<!-- 44&#45;&gt;45 -->\n<g id=\"edge45\" class=\"edge\">\n<title>44&#45;&gt;45</title>\n<path fill=\"none\" stroke=\"#000000\" d=\"M2557.2024,-460.8796C2539.5342,-450.915 2520.5582,-440.2129 2502.5237,-430.0418\"/>\n<polygon fill=\"#000000\" stroke=\"#000000\" points=\"2504.1855,-426.9608 2493.7559,-425.0969 2500.7468,-433.058 2504.1855,-426.9608\"/>\n</g>\n<!-- 50 -->\n<g id=\"node51\" class=\"node\">\n<title>50</title>\n<path fill=\"#eeae80\" stroke=\"#000000\" d=\"M2899,-425C2899,-425 2567,-425 2567,-425 2561,-425 2555,-419 2555,-413 2555,-413 2555,-354 2555,-354 2555,-348 2561,-342 2567,-342 2567,-342 2899,-342 2899,-342 2905,-342 2911,-348 2911,-354 2911,-354 2911,-413 2911,-413 2911,-419 2905,-425 2899,-425\"/>\n<text text-anchor=\"start\" x=\"2563\" y=\"-409.8\" font-family=\"Helvetica,sans-Serif\" font-size=\"14.00\" fill=\"#000000\">RadialDistribution_FracAtD_DF_image_4of4 ≤ 0.446</text>\n<text text-anchor=\"start\" x=\"2695\" y=\"-394.8\" font-family=\"Helvetica,sans-Serif\" font-size=\"14.00\" fill=\"#000000\">gini = 0.426</text>\n<text text-anchor=\"start\" x=\"2689\" y=\"-379.8\" font-family=\"Helvetica,sans-Serif\" font-size=\"14.00\" fill=\"#000000\">samples = 18</text>\n<text text-anchor=\"start\" x=\"2663.5\" y=\"-364.8\" font-family=\"Helvetica,sans-Serif\" font-size=\"14.00\" fill=\"#000000\">value = [13, 4, 1, 0, 0]</text>\n<text text-anchor=\"start\" x=\"2704\" y=\"-349.8\" font-family=\"Helvetica,sans-Serif\" font-size=\"14.00\" fill=\"#000000\">class = 3</text>\n</g>\n<!-- 44&#45;&gt;50 -->\n<g id=\"edge50\" class=\"edge\">\n<title>44&#45;&gt;50</title>\n<path fill=\"none\" stroke=\"#000000\" d=\"M2666.6747,-460.8796C2674.3943,-451.8733 2682.6305,-442.2644 2690.5803,-432.9897\"/>\n<polygon fill=\"#000000\" stroke=\"#000000\" points=\"2693.3225,-435.1684 2697.1731,-425.2981 2688.0077,-430.6129 2693.3225,-435.1684\"/>\n</g>\n<!-- 46 -->\n<g id=\"node47\" class=\"node\">\n<title>46</title>\n<path fill=\"#efb388\" stroke=\"#000000\" d=\"M2260,-298.5C2260,-298.5 2138,-298.5 2138,-298.5 2132,-298.5 2126,-292.5 2126,-286.5 2126,-286.5 2126,-242.5 2126,-242.5 2126,-236.5 2132,-230.5 2138,-230.5 2138,-230.5 2260,-230.5 2260,-230.5 2266,-230.5 2272,-236.5 2272,-242.5 2272,-242.5 2272,-286.5 2272,-286.5 2272,-292.5 2266,-298.5 2260,-298.5\"/>\n<text text-anchor=\"start\" x=\"2161\" y=\"-283.3\" font-family=\"Helvetica,sans-Serif\" font-size=\"14.00\" fill=\"#000000\">gini = 0.408</text>\n<text text-anchor=\"start\" x=\"2159.5\" y=\"-268.3\" font-family=\"Helvetica,sans-Serif\" font-size=\"14.00\" fill=\"#000000\">samples = 7</text>\n<text text-anchor=\"start\" x=\"2134\" y=\"-253.3\" font-family=\"Helvetica,sans-Serif\" font-size=\"14.00\" fill=\"#000000\">value = [5, 2, 0, 0, 0]</text>\n<text text-anchor=\"start\" x=\"2170\" y=\"-238.3\" font-family=\"Helvetica,sans-Serif\" font-size=\"14.00\" fill=\"#000000\">class = 3</text>\n</g>\n<!-- 45&#45;&gt;46 -->\n<g id=\"edge46\" class=\"edge\">\n<title>45&#45;&gt;46</title>\n<path fill=\"none\" stroke=\"#000000\" d=\"M2342.7049,-341.8796C2319.519,-329.3948 2294.1828,-315.7523 2271.3299,-303.4469\"/>\n<polygon fill=\"#000000\" stroke=\"#000000\" points=\"2272.8354,-300.2824 2262.3714,-298.623 2269.5167,-306.4457 2272.8354,-300.2824\"/>\n</g>\n<!-- 47 -->\n<g id=\"node48\" class=\"node\">\n<title>47</title>\n<path fill=\"#84e746\" stroke=\"#000000\" d=\"M2574,-306C2574,-306 2302,-306 2302,-306 2296,-306 2290,-300 2290,-294 2290,-294 2290,-235 2290,-235 2290,-229 2296,-223 2302,-223 2302,-223 2574,-223 2574,-223 2580,-223 2586,-229 2586,-235 2586,-235 2586,-294 2586,-294 2586,-300 2580,-306 2574,-306\"/>\n<text text-anchor=\"start\" x=\"2298\" y=\"-290.8\" font-family=\"Helvetica,sans-Serif\" font-size=\"14.00\" fill=\"#000000\">Intensity_MeanIntensity_BF_image ≤ 0.002</text>\n<text text-anchor=\"start\" x=\"2400\" y=\"-275.8\" font-family=\"Helvetica,sans-Serif\" font-size=\"14.00\" fill=\"#000000\">gini = 0.123</text>\n<text text-anchor=\"start\" x=\"2394\" y=\"-260.8\" font-family=\"Helvetica,sans-Serif\" font-size=\"14.00\" fill=\"#000000\">samples = 31</text>\n<text text-anchor=\"start\" x=\"2368.5\" y=\"-245.8\" font-family=\"Helvetica,sans-Serif\" font-size=\"14.00\" fill=\"#000000\">value = [1, 29, 1, 0, 0]</text>\n<text text-anchor=\"start\" x=\"2409\" y=\"-230.8\" font-family=\"Helvetica,sans-Serif\" font-size=\"14.00\" fill=\"#000000\">class = 0</text>\n</g>\n<!-- 45&#45;&gt;47 -->\n<g id=\"edge47\" class=\"edge\">\n<title>45&#45;&gt;47</title>\n<path fill=\"none\" stroke=\"#000000\" d=\"M2426.2955,-341.8796C2427.5488,-333.5938 2428.8793,-324.798 2430.1766,-316.2216\"/>\n<polygon fill=\"#000000\" stroke=\"#000000\" points=\"2433.6426,-316.7091 2431.6776,-306.2981 2426.7213,-315.6621 2433.6426,-316.7091\"/>\n</g>\n<!-- 48 -->\n<g id=\"node49\" class=\"node\">\n<title>48</title>\n<path fill=\"#7be539\" stroke=\"#000000\" d=\"M2382.5,-179.5C2382.5,-179.5 2251.5,-179.5 2251.5,-179.5 2245.5,-179.5 2239.5,-173.5 2239.5,-167.5 2239.5,-167.5 2239.5,-123.5 2239.5,-123.5 2239.5,-117.5 2245.5,-111.5 2251.5,-111.5 2251.5,-111.5 2382.5,-111.5 2382.5,-111.5 2388.5,-111.5 2394.5,-117.5 2394.5,-123.5 2394.5,-123.5 2394.5,-167.5 2394.5,-167.5 2394.5,-173.5 2388.5,-179.5 2382.5,-179.5\"/>\n<text text-anchor=\"start\" x=\"2287.5\" y=\"-164.3\" font-family=\"Helvetica,sans-Serif\" font-size=\"14.00\" fill=\"#000000\">gini = 0.0</text>\n<text text-anchor=\"start\" x=\"2273\" y=\"-149.3\" font-family=\"Helvetica,sans-Serif\" font-size=\"14.00\" fill=\"#000000\">samples = 26</text>\n<text text-anchor=\"start\" x=\"2247.5\" y=\"-134.3\" font-family=\"Helvetica,sans-Serif\" font-size=\"14.00\" fill=\"#000000\">value = [0, 26, 0, 0, 0]</text>\n<text text-anchor=\"start\" x=\"2288\" y=\"-119.3\" font-family=\"Helvetica,sans-Serif\" font-size=\"14.00\" fill=\"#000000\">class = 0</text>\n</g>\n<!-- 47&#45;&gt;48 -->\n<g id=\"edge48\" class=\"edge\">\n<title>47&#45;&gt;48</title>\n<path fill=\"none\" stroke=\"#000000\" d=\"M2395.6801,-222.8796C2383.8283,-211.2237 2370.9505,-198.5587 2359.1109,-186.9148\"/>\n<polygon fill=\"#000000\" stroke=\"#000000\" points=\"2361.4756,-184.3314 2351.8917,-179.8149 2356.5673,-189.3223 2361.4756,-184.3314\"/>\n</g>\n<!-- 49 -->\n<g id=\"node50\" class=\"node\">\n<title>49</title>\n<path fill=\"#bdf29c\" stroke=\"#000000\" d=\"M2547,-179.5C2547,-179.5 2425,-179.5 2425,-179.5 2419,-179.5 2413,-173.5 2413,-167.5 2413,-167.5 2413,-123.5 2413,-123.5 2413,-117.5 2419,-111.5 2425,-111.5 2425,-111.5 2547,-111.5 2547,-111.5 2553,-111.5 2559,-117.5 2559,-123.5 2559,-123.5 2559,-167.5 2559,-167.5 2559,-173.5 2553,-179.5 2547,-179.5\"/>\n<text text-anchor=\"start\" x=\"2452.5\" y=\"-164.3\" font-family=\"Helvetica,sans-Serif\" font-size=\"14.00\" fill=\"#000000\">gini = 0.56</text>\n<text text-anchor=\"start\" x=\"2446.5\" y=\"-149.3\" font-family=\"Helvetica,sans-Serif\" font-size=\"14.00\" fill=\"#000000\">samples = 5</text>\n<text text-anchor=\"start\" x=\"2421\" y=\"-134.3\" font-family=\"Helvetica,sans-Serif\" font-size=\"14.00\" fill=\"#000000\">value = [1, 3, 1, 0, 0]</text>\n<text text-anchor=\"start\" x=\"2457\" y=\"-119.3\" font-family=\"Helvetica,sans-Serif\" font-size=\"14.00\" fill=\"#000000\">class = 0</text>\n</g>\n<!-- 47&#45;&gt;49 -->\n<g id=\"edge49\" class=\"edge\">\n<title>47&#45;&gt;49</title>\n<path fill=\"none\" stroke=\"#000000\" d=\"M2454.7881,-222.8796C2459.1791,-211.9935 2463.9252,-200.227 2468.3592,-189.2344\"/>\n<polygon fill=\"#000000\" stroke=\"#000000\" points=\"2471.6638,-190.3982 2472.1587,-179.8149 2465.172,-187.7796 2471.6638,-190.3982\"/>\n</g>\n<!-- 51 -->\n<g id=\"node52\" class=\"node\">\n<title>51</title>\n<path fill=\"#caf5b0\" stroke=\"#000000\" d=\"M2775,-298.5C2775,-298.5 2653,-298.5 2653,-298.5 2647,-298.5 2641,-292.5 2641,-286.5 2641,-286.5 2641,-242.5 2641,-242.5 2641,-236.5 2647,-230.5 2653,-230.5 2653,-230.5 2775,-230.5 2775,-230.5 2781,-230.5 2787,-236.5 2787,-242.5 2787,-242.5 2787,-286.5 2787,-286.5 2787,-292.5 2781,-298.5 2775,-298.5\"/>\n<text text-anchor=\"start\" x=\"2676\" y=\"-283.3\" font-family=\"Helvetica,sans-Serif\" font-size=\"14.00\" fill=\"#000000\">gini = 0.571</text>\n<text text-anchor=\"start\" x=\"2674.5\" y=\"-268.3\" font-family=\"Helvetica,sans-Serif\" font-size=\"14.00\" fill=\"#000000\">samples = 7</text>\n<text text-anchor=\"start\" x=\"2649\" y=\"-253.3\" font-family=\"Helvetica,sans-Serif\" font-size=\"14.00\" fill=\"#000000\">value = [2, 4, 1, 0, 0]</text>\n<text text-anchor=\"start\" x=\"2685\" y=\"-238.3\" font-family=\"Helvetica,sans-Serif\" font-size=\"14.00\" fill=\"#000000\">class = 0</text>\n</g>\n<!-- 50&#45;&gt;51 -->\n<g id=\"edge51\" class=\"edge\">\n<title>50&#45;&gt;51</title>\n<path fill=\"none\" stroke=\"#000000\" d=\"M2726.3547,-341.8796C2724.6517,-331.2134 2722.8138,-319.7021 2721.0893,-308.9015\"/>\n<polygon fill=\"#000000\" stroke=\"#000000\" points=\"2724.5118,-308.138 2719.4789,-298.8149 2717.5994,-309.2417 2724.5118,-308.138\"/>\n</g>\n<!-- 52 -->\n<g id=\"node53\" class=\"node\">\n<title>52</title>\n<path fill=\"#e58139\" stroke=\"#000000\" d=\"M2948.5,-298.5C2948.5,-298.5 2817.5,-298.5 2817.5,-298.5 2811.5,-298.5 2805.5,-292.5 2805.5,-286.5 2805.5,-286.5 2805.5,-242.5 2805.5,-242.5 2805.5,-236.5 2811.5,-230.5 2817.5,-230.5 2817.5,-230.5 2948.5,-230.5 2948.5,-230.5 2954.5,-230.5 2960.5,-236.5 2960.5,-242.5 2960.5,-242.5 2960.5,-286.5 2960.5,-286.5 2960.5,-292.5 2954.5,-298.5 2948.5,-298.5\"/>\n<text text-anchor=\"start\" x=\"2853.5\" y=\"-283.3\" font-family=\"Helvetica,sans-Serif\" font-size=\"14.00\" fill=\"#000000\">gini = 0.0</text>\n<text text-anchor=\"start\" x=\"2839\" y=\"-268.3\" font-family=\"Helvetica,sans-Serif\" font-size=\"14.00\" fill=\"#000000\">samples = 11</text>\n<text text-anchor=\"start\" x=\"2813.5\" y=\"-253.3\" font-family=\"Helvetica,sans-Serif\" font-size=\"14.00\" fill=\"#000000\">value = [11, 0, 0, 0, 0]</text>\n<text text-anchor=\"start\" x=\"2854\" y=\"-238.3\" font-family=\"Helvetica,sans-Serif\" font-size=\"14.00\" fill=\"#000000\">class = 3</text>\n</g>\n<!-- 50&#45;&gt;52 -->\n<g id=\"edge52\" class=\"edge\">\n<title>50&#45;&gt;52</title>\n<path fill=\"none\" stroke=\"#000000\" d=\"M2785.4627,-341.8796C2800.4322,-330.0038 2816.7222,-317.0804 2831.6259,-305.2568\"/>\n<polygon fill=\"#000000\" stroke=\"#000000\" points=\"2834.087,-307.772 2839.7459,-298.8149 2829.7365,-302.2881 2834.087,-307.772\"/>\n</g>\n<!-- 54 -->\n<g id=\"node55\" class=\"node\">\n<title>54</title>\n<path fill=\"#a1ec72\" stroke=\"#000000\" d=\"M3063,-417.5C3063,-417.5 2941,-417.5 2941,-417.5 2935,-417.5 2929,-411.5 2929,-405.5 2929,-405.5 2929,-361.5 2929,-361.5 2929,-355.5 2935,-349.5 2941,-349.5 2941,-349.5 3063,-349.5 3063,-349.5 3069,-349.5 3075,-355.5 3075,-361.5 3075,-361.5 3075,-405.5 3075,-405.5 3075,-411.5 3069,-417.5 3063,-417.5\"/>\n<text text-anchor=\"start\" x=\"2964\" y=\"-402.3\" font-family=\"Helvetica,sans-Serif\" font-size=\"14.00\" fill=\"#000000\">gini = 0.346</text>\n<text text-anchor=\"start\" x=\"2962.5\" y=\"-387.3\" font-family=\"Helvetica,sans-Serif\" font-size=\"14.00\" fill=\"#000000\">samples = 9</text>\n<text text-anchor=\"start\" x=\"2937\" y=\"-372.3\" font-family=\"Helvetica,sans-Serif\" font-size=\"14.00\" fill=\"#000000\">value = [2, 7, 0, 0, 0]</text>\n<text text-anchor=\"start\" x=\"2973\" y=\"-357.3\" font-family=\"Helvetica,sans-Serif\" font-size=\"14.00\" fill=\"#000000\">class = 0</text>\n</g>\n<!-- 53&#45;&gt;54 -->\n<g id=\"edge54\" class=\"edge\">\n<title>53&#45;&gt;54</title>\n<path fill=\"none\" stroke=\"#000000\" d=\"M3002,-460.8796C3002,-450.2134 3002,-438.7021 3002,-427.9015\"/>\n<polygon fill=\"#000000\" stroke=\"#000000\" points=\"3005.5001,-427.8149 3002,-417.8149 2998.5001,-427.815 3005.5001,-427.8149\"/>\n</g>\n<!-- 55 -->\n<g id=\"node56\" class=\"node\">\n<title>55</title>\n<path fill=\"#eb9e67\" stroke=\"#000000\" d=\"M3368.5,-425C3368.5,-425 3105.5,-425 3105.5,-425 3099.5,-425 3093.5,-419 3093.5,-413 3093.5,-413 3093.5,-354 3093.5,-354 3093.5,-348 3099.5,-342 3105.5,-342 3105.5,-342 3368.5,-342 3368.5,-342 3374.5,-342 3380.5,-348 3380.5,-354 3380.5,-354 3380.5,-413 3380.5,-413 3380.5,-419 3374.5,-425 3368.5,-425\"/>\n<text text-anchor=\"start\" x=\"3101.5\" y=\"-409.8\" font-family=\"Helvetica,sans-Serif\" font-size=\"14.00\" fill=\"#000000\">Intensity_MaxIntensity_BF_image ≤ 0.008</text>\n<text text-anchor=\"start\" x=\"3199\" y=\"-394.8\" font-family=\"Helvetica,sans-Serif\" font-size=\"14.00\" fill=\"#000000\">gini = 0.326</text>\n<text text-anchor=\"start\" x=\"3193\" y=\"-379.8\" font-family=\"Helvetica,sans-Serif\" font-size=\"14.00\" fill=\"#000000\">samples = 82</text>\n<text text-anchor=\"start\" x=\"3163.5\" y=\"-364.8\" font-family=\"Helvetica,sans-Serif\" font-size=\"14.00\" fill=\"#000000\">value = [66, 13, 3, 0, 0]</text>\n<text text-anchor=\"start\" x=\"3208\" y=\"-349.8\" font-family=\"Helvetica,sans-Serif\" font-size=\"14.00\" fill=\"#000000\">class = 3</text>\n</g>\n<!-- 53&#45;&gt;55 -->\n<g id=\"edge55\" class=\"edge\">\n<title>53&#45;&gt;55</title>\n<path fill=\"none\" stroke=\"#000000\" d=\"M3084.1916,-460.8796C3104.1378,-450.7791 3125.5805,-439.9209 3145.9108,-429.626\"/>\n<polygon fill=\"#000000\" stroke=\"#000000\" points=\"3147.5146,-432.7371 3154.8548,-425.0969 3144.3522,-426.4921 3147.5146,-432.7371\"/>\n</g>\n<!-- 56 -->\n<g id=\"node57\" class=\"node\">\n<title>56</title>\n<path fill=\"#e78b49\" stroke=\"#000000\" d=\"M3334,-306C3334,-306 3052,-306 3052,-306 3046,-306 3040,-300 3040,-294 3040,-294 3040,-235 3040,-235 3040,-229 3046,-223 3052,-223 3052,-223 3334,-223 3334,-223 3340,-223 3346,-229 3346,-235 3346,-235 3346,-294 3346,-294 3346,-300 3340,-306 3334,-306\"/>\n<text text-anchor=\"start\" x=\"3048\" y=\"-290.8\" font-family=\"Helvetica,sans-Serif\" font-size=\"14.00\" fill=\"#000000\">Texture_InfoMeas1_DF_image_3_0 ≤ &#45;0.064</text>\n<text text-anchor=\"start\" x=\"3155\" y=\"-275.8\" font-family=\"Helvetica,sans-Serif\" font-size=\"14.00\" fill=\"#000000\">gini = 0.145</text>\n<text text-anchor=\"start\" x=\"3149\" y=\"-260.8\" font-family=\"Helvetica,sans-Serif\" font-size=\"14.00\" fill=\"#000000\">samples = 65</text>\n<text text-anchor=\"start\" x=\"3123.5\" y=\"-245.8\" font-family=\"Helvetica,sans-Serif\" font-size=\"14.00\" fill=\"#000000\">value = [60, 3, 2, 0, 0]</text>\n<text text-anchor=\"start\" x=\"3164\" y=\"-230.8\" font-family=\"Helvetica,sans-Serif\" font-size=\"14.00\" fill=\"#000000\">class = 3</text>\n</g>\n<!-- 55&#45;&gt;56 -->\n<g id=\"edge56\" class=\"edge\">\n<title>55&#45;&gt;56</title>\n<path fill=\"none\" stroke=\"#000000\" d=\"M3221.6109,-341.8796C3218.514,-333.5037 3215.2243,-324.6067 3212.0206,-315.942\"/>\n<polygon fill=\"#000000\" stroke=\"#000000\" points=\"3215.2056,-314.4636 3208.4547,-306.2981 3208.64,-316.8913 3215.2056,-314.4636\"/>\n</g>\n<!-- 61 -->\n<g id=\"node62\" class=\"node\">\n<title>61</title>\n<path fill=\"#cff6b7\" stroke=\"#000000\" d=\"M3672,-306C3672,-306 3376,-306 3376,-306 3370,-306 3364,-300 3364,-294 3364,-294 3364,-235 3364,-235 3364,-229 3370,-223 3376,-223 3376,-223 3672,-223 3672,-223 3678,-223 3684,-229 3684,-235 3684,-235 3684,-294 3684,-294 3684,-300 3678,-306 3672,-306\"/>\n<text text-anchor=\"start\" x=\"3372\" y=\"-290.8\" font-family=\"Helvetica,sans-Serif\" font-size=\"14.00\" fill=\"#000000\">Texture_Correlation_DF_image_3_135 ≤ 0.232</text>\n<text text-anchor=\"start\" x=\"3486\" y=\"-275.8\" font-family=\"Helvetica,sans-Serif\" font-size=\"14.00\" fill=\"#000000\">gini = 0.526</text>\n<text text-anchor=\"start\" x=\"3480\" y=\"-260.8\" font-family=\"Helvetica,sans-Serif\" font-size=\"14.00\" fill=\"#000000\">samples = 17</text>\n<text text-anchor=\"start\" x=\"3454.5\" y=\"-245.8\" font-family=\"Helvetica,sans-Serif\" font-size=\"14.00\" fill=\"#000000\">value = [6, 10, 1, 0, 0]</text>\n<text text-anchor=\"start\" x=\"3495\" y=\"-230.8\" font-family=\"Helvetica,sans-Serif\" font-size=\"14.00\" fill=\"#000000\">class = 0</text>\n</g>\n<!-- 55&#45;&gt;61 -->\n<g id=\"edge61\" class=\"edge\">\n<title>55&#45;&gt;61</title>\n<path fill=\"none\" stroke=\"#000000\" d=\"M3337.3787,-341.8796C3362.2847,-331.5527 3389.1013,-320.4336 3414.4229,-309.9344\"/>\n<polygon fill=\"#000000\" stroke=\"#000000\" points=\"3415.7812,-313.1602 3423.678,-306.0969 3413.1,-306.694 3415.7812,-313.1602\"/>\n</g>\n<!-- 57 -->\n<g id=\"node58\" class=\"node\">\n<title>57</title>\n<path fill=\"#e68540\" stroke=\"#000000\" d=\"M3100,-187C3100,-187 2892,-187 2892,-187 2886,-187 2880,-181 2880,-175 2880,-175 2880,-116 2880,-116 2880,-110 2886,-104 2892,-104 2892,-104 3100,-104 3100,-104 3106,-104 3112,-110 3112,-116 3112,-116 3112,-175 3112,-175 3112,-181 3106,-187 3100,-187\"/>\n<text text-anchor=\"start\" x=\"2888\" y=\"-171.8\" font-family=\"Helvetica,sans-Serif\" font-size=\"14.00\" fill=\"#000000\">AreaShape_Zernike_6_2 ≤ 0.015</text>\n<text text-anchor=\"start\" x=\"2958\" y=\"-156.8\" font-family=\"Helvetica,sans-Serif\" font-size=\"14.00\" fill=\"#000000\">gini = 0.065</text>\n<text text-anchor=\"start\" x=\"2952\" y=\"-141.8\" font-family=\"Helvetica,sans-Serif\" font-size=\"14.00\" fill=\"#000000\">samples = 60</text>\n<text text-anchor=\"start\" x=\"2926.5\" y=\"-126.8\" font-family=\"Helvetica,sans-Serif\" font-size=\"14.00\" fill=\"#000000\">value = [58, 1, 1, 0, 0]</text>\n<text text-anchor=\"start\" x=\"2967\" y=\"-111.8\" font-family=\"Helvetica,sans-Serif\" font-size=\"14.00\" fill=\"#000000\">class = 3</text>\n</g>\n<!-- 56&#45;&gt;57 -->\n<g id=\"edge57\" class=\"edge\">\n<title>56&#45;&gt;57</title>\n<path fill=\"none\" stroke=\"#000000\" d=\"M3124.099,-222.8796C3107.753,-213.0056 3090.2081,-202.4075 3073.5076,-192.3193\"/>\n<polygon fill=\"#000000\" stroke=\"#000000\" points=\"3075.2314,-189.2716 3064.8621,-187.0969 3071.612,-195.2633 3075.2314,-189.2716\"/>\n</g>\n<!-- 60 -->\n<g id=\"node61\" class=\"node\">\n<title>60</title>\n<path fill=\"#ffffff\" stroke=\"#000000\" d=\"M3264,-179.5C3264,-179.5 3142,-179.5 3142,-179.5 3136,-179.5 3130,-173.5 3130,-167.5 3130,-167.5 3130,-123.5 3130,-123.5 3130,-117.5 3136,-111.5 3142,-111.5 3142,-111.5 3264,-111.5 3264,-111.5 3270,-111.5 3276,-117.5 3276,-123.5 3276,-123.5 3276,-167.5 3276,-167.5 3276,-173.5 3270,-179.5 3264,-179.5\"/>\n<text text-anchor=\"start\" x=\"3169.5\" y=\"-164.3\" font-family=\"Helvetica,sans-Serif\" font-size=\"14.00\" fill=\"#000000\">gini = 0.64</text>\n<text text-anchor=\"start\" x=\"3163.5\" y=\"-149.3\" font-family=\"Helvetica,sans-Serif\" font-size=\"14.00\" fill=\"#000000\">samples = 5</text>\n<text text-anchor=\"start\" x=\"3138\" y=\"-134.3\" font-family=\"Helvetica,sans-Serif\" font-size=\"14.00\" fill=\"#000000\">value = [2, 2, 1, 0, 0]</text>\n<text text-anchor=\"start\" x=\"3174\" y=\"-119.3\" font-family=\"Helvetica,sans-Serif\" font-size=\"14.00\" fill=\"#000000\">class = 3</text>\n</g>\n<!-- 56&#45;&gt;60 -->\n<g id=\"edge60\" class=\"edge\">\n<title>56&#45;&gt;60</title>\n<path fill=\"none\" stroke=\"#000000\" d=\"M3196.4975,-222.8796C3197.3938,-212.2134 3198.3612,-200.7021 3199.2688,-189.9015\"/>\n<polygon fill=\"#000000\" stroke=\"#000000\" points=\"3202.7666,-190.0729 3200.1164,-179.8149 3195.7912,-189.4867 3202.7666,-190.0729\"/>\n</g>\n<!-- 58 -->\n<g id=\"node59\" class=\"node\">\n<title>58</title>\n<path fill=\"#e58139\" stroke=\"#000000\" d=\"M3052.5,-68C3052.5,-68 2921.5,-68 2921.5,-68 2915.5,-68 2909.5,-62 2909.5,-56 2909.5,-56 2909.5,-12 2909.5,-12 2909.5,-6 2915.5,0 2921.5,0 2921.5,0 3052.5,0 3052.5,0 3058.5,0 3064.5,-6 3064.5,-12 3064.5,-12 3064.5,-56 3064.5,-56 3064.5,-62 3058.5,-68 3052.5,-68\"/>\n<text text-anchor=\"start\" x=\"2957.5\" y=\"-52.8\" font-family=\"Helvetica,sans-Serif\" font-size=\"14.00\" fill=\"#000000\">gini = 0.0</text>\n<text text-anchor=\"start\" x=\"2943\" y=\"-37.8\" font-family=\"Helvetica,sans-Serif\" font-size=\"14.00\" fill=\"#000000\">samples = 55</text>\n<text text-anchor=\"start\" x=\"2917.5\" y=\"-22.8\" font-family=\"Helvetica,sans-Serif\" font-size=\"14.00\" fill=\"#000000\">value = [55, 0, 0, 0, 0]</text>\n<text text-anchor=\"start\" x=\"2958\" y=\"-7.8\" font-family=\"Helvetica,sans-Serif\" font-size=\"14.00\" fill=\"#000000\">class = 3</text>\n</g>\n<!-- 57&#45;&gt;58 -->\n<g id=\"edge58\" class=\"edge\">\n<title>57&#45;&gt;58</title>\n<path fill=\"none\" stroke=\"#000000\" d=\"M2992.6487,-103.9815C2991.9737,-95.618 2991.2616,-86.7965 2990.5791,-78.3409\"/>\n<polygon fill=\"#000000\" stroke=\"#000000\" points=\"2994.059,-77.9496 2989.7657,-68.2637 2987.0817,-78.5129 2994.059,-77.9496\"/>\n</g>\n<!-- 59 -->\n<g id=\"node60\" class=\"node\">\n<title>59</title>\n<path fill=\"#f2c09c\" stroke=\"#000000\" d=\"M3217,-68C3217,-68 3095,-68 3095,-68 3089,-68 3083,-62 3083,-56 3083,-56 3083,-12 3083,-12 3083,-6 3089,0 3095,0 3095,0 3217,0 3217,0 3223,0 3229,-6 3229,-12 3229,-12 3229,-56 3229,-56 3229,-62 3223,-68 3217,-68\"/>\n<text text-anchor=\"start\" x=\"3122.5\" y=\"-52.8\" font-family=\"Helvetica,sans-Serif\" font-size=\"14.00\" fill=\"#000000\">gini = 0.56</text>\n<text text-anchor=\"start\" x=\"3116.5\" y=\"-37.8\" font-family=\"Helvetica,sans-Serif\" font-size=\"14.00\" fill=\"#000000\">samples = 5</text>\n<text text-anchor=\"start\" x=\"3091\" y=\"-22.8\" font-family=\"Helvetica,sans-Serif\" font-size=\"14.00\" fill=\"#000000\">value = [3, 1, 1, 0, 0]</text>\n<text text-anchor=\"start\" x=\"3127\" y=\"-7.8\" font-family=\"Helvetica,sans-Serif\" font-size=\"14.00\" fill=\"#000000\">class = 3</text>\n</g>\n<!-- 57&#45;&gt;59 -->\n<g id=\"edge59\" class=\"edge\">\n<title>57&#45;&gt;59</title>\n<path fill=\"none\" stroke=\"#000000\" d=\"M3055.5781,-103.9815C3069.6314,-94.1881 3084.5857,-83.7668 3098.5432,-74.0402\"/>\n<polygon fill=\"#000000\" stroke=\"#000000\" points=\"3100.8846,-76.6746 3107.0879,-68.0856 3096.8824,-70.9315 3100.8846,-76.6746\"/>\n</g>\n<!-- 62 -->\n<g id=\"node63\" class=\"node\">\n<title>62</title>\n<path fill=\"#f4c9aa\" stroke=\"#000000\" d=\"M3659,-187C3659,-187 3315,-187 3315,-187 3309,-187 3303,-181 3303,-175 3303,-175 3303,-116 3303,-116 3303,-110 3309,-104 3315,-104 3315,-104 3659,-104 3659,-104 3665,-104 3671,-110 3671,-116 3671,-116 3671,-175 3671,-175 3671,-181 3665,-187 3659,-187\"/>\n<text text-anchor=\"start\" x=\"3311\" y=\"-171.8\" font-family=\"Helvetica,sans-Serif\" font-size=\"14.00\" fill=\"#000000\">RadialDistribution_MeanFrac_BF_image_4of4 ≤ 0.769</text>\n<text text-anchor=\"start\" x=\"3453.5\" y=\"-156.8\" font-family=\"Helvetica,sans-Serif\" font-size=\"14.00\" fill=\"#000000\">gini = 0.54</text>\n<text text-anchor=\"start\" x=\"3443\" y=\"-141.8\" font-family=\"Helvetica,sans-Serif\" font-size=\"14.00\" fill=\"#000000\">samples = 10</text>\n<text text-anchor=\"start\" x=\"3422\" y=\"-126.8\" font-family=\"Helvetica,sans-Serif\" font-size=\"14.00\" fill=\"#000000\">value = [6, 3, 1, 0, 0]</text>\n<text text-anchor=\"start\" x=\"3458\" y=\"-111.8\" font-family=\"Helvetica,sans-Serif\" font-size=\"14.00\" fill=\"#000000\">class = 3</text>\n</g>\n<!-- 61&#45;&gt;62 -->\n<g id=\"edge62\" class=\"edge\">\n<title>61&#45;&gt;62</title>\n<path fill=\"none\" stroke=\"#000000\" d=\"M3511.0592,-222.8796C3508.4549,-214.5037 3505.6886,-205.6067 3502.9946,-196.942\"/>\n<polygon fill=\"#000000\" stroke=\"#000000\" points=\"3506.3073,-195.808 3499.996,-187.2981 3499.623,-197.8863 3506.3073,-195.808\"/>\n</g>\n<!-- 65 -->\n<g id=\"node66\" class=\"node\">\n<title>65</title>\n<path fill=\"#7be539\" stroke=\"#000000\" d=\"M3823,-179.5C3823,-179.5 3701,-179.5 3701,-179.5 3695,-179.5 3689,-173.5 3689,-167.5 3689,-167.5 3689,-123.5 3689,-123.5 3689,-117.5 3695,-111.5 3701,-111.5 3701,-111.5 3823,-111.5 3823,-111.5 3829,-111.5 3835,-117.5 3835,-123.5 3835,-123.5 3835,-167.5 3835,-167.5 3835,-173.5 3829,-179.5 3823,-179.5\"/>\n<text text-anchor=\"start\" x=\"3732.5\" y=\"-164.3\" font-family=\"Helvetica,sans-Serif\" font-size=\"14.00\" fill=\"#000000\">gini = 0.0</text>\n<text text-anchor=\"start\" x=\"3722.5\" y=\"-149.3\" font-family=\"Helvetica,sans-Serif\" font-size=\"14.00\" fill=\"#000000\">samples = 7</text>\n<text text-anchor=\"start\" x=\"3697\" y=\"-134.3\" font-family=\"Helvetica,sans-Serif\" font-size=\"14.00\" fill=\"#000000\">value = [0, 7, 0, 0, 0]</text>\n<text text-anchor=\"start\" x=\"3733\" y=\"-119.3\" font-family=\"Helvetica,sans-Serif\" font-size=\"14.00\" fill=\"#000000\">class = 0</text>\n</g>\n<!-- 61&#45;&gt;65 -->\n<g id=\"edge65\" class=\"edge\">\n<title>61&#45;&gt;65</title>\n<path fill=\"none\" stroke=\"#000000\" d=\"M3607.851,-222.986C3631.2244,-211.3752 3656.6163,-198.7254 3680,-187 3681.8185,-186.0881 3683.6593,-185.1642 3685.5156,-184.2315\"/>\n<polygon fill=\"#000000\" stroke=\"#000000\" points=\"3687.5353,-187.1335 3694.8954,-179.5125 3684.3892,-180.8803 3687.5353,-187.1335\"/>\n</g>\n<!-- 63 -->\n<g id=\"node64\" class=\"node\">\n<title>63</title>\n<path fill=\"#bdf29c\" stroke=\"#000000\" d=\"M3401,-68C3401,-68 3279,-68 3279,-68 3273,-68 3267,-62 3267,-56 3267,-56 3267,-12 3267,-12 3267,-6 3273,0 3279,0 3279,0 3401,0 3401,0 3407,0 3413,-6 3413,-12 3413,-12 3413,-56 3413,-56 3413,-62 3407,-68 3401,-68\"/>\n<text text-anchor=\"start\" x=\"3306.5\" y=\"-52.8\" font-family=\"Helvetica,sans-Serif\" font-size=\"14.00\" fill=\"#000000\">gini = 0.56</text>\n<text text-anchor=\"start\" x=\"3300.5\" y=\"-37.8\" font-family=\"Helvetica,sans-Serif\" font-size=\"14.00\" fill=\"#000000\">samples = 5</text>\n<text text-anchor=\"start\" x=\"3275\" y=\"-22.8\" font-family=\"Helvetica,sans-Serif\" font-size=\"14.00\" fill=\"#000000\">value = [1, 3, 1, 0, 0]</text>\n<text text-anchor=\"start\" x=\"3311\" y=\"-7.8\" font-family=\"Helvetica,sans-Serif\" font-size=\"14.00\" fill=\"#000000\">class = 0</text>\n</g>\n<!-- 62&#45;&gt;63 -->\n<g id=\"edge63\" class=\"edge\">\n<title>62&#45;&gt;63</title>\n<path fill=\"none\" stroke=\"#000000\" d=\"M3432.2626,-103.9815C3419.5399,-94.3313 3406.0134,-84.0714 3393.3515,-74.4673\"/>\n<polygon fill=\"#000000\" stroke=\"#000000\" points=\"3395.2553,-71.5184 3385.1727,-68.2637 3391.025,-77.0956 3395.2553,-71.5184\"/>\n</g>\n<!-- 64 -->\n<g id=\"node65\" class=\"node\">\n<title>64</title>\n<path fill=\"#e58139\" stroke=\"#000000\" d=\"M3565,-68C3565,-68 3443,-68 3443,-68 3437,-68 3431,-62 3431,-56 3431,-56 3431,-12 3431,-12 3431,-6 3437,0 3443,0 3443,0 3565,0 3565,0 3571,0 3577,-6 3577,-12 3577,-12 3577,-56 3577,-56 3577,-62 3571,-68 3565,-68\"/>\n<text text-anchor=\"start\" x=\"3474.5\" y=\"-52.8\" font-family=\"Helvetica,sans-Serif\" font-size=\"14.00\" fill=\"#000000\">gini = 0.0</text>\n<text text-anchor=\"start\" x=\"3464.5\" y=\"-37.8\" font-family=\"Helvetica,sans-Serif\" font-size=\"14.00\" fill=\"#000000\">samples = 5</text>\n<text text-anchor=\"start\" x=\"3439\" y=\"-22.8\" font-family=\"Helvetica,sans-Serif\" font-size=\"14.00\" fill=\"#000000\">value = [5, 0, 0, 0, 0]</text>\n<text text-anchor=\"start\" x=\"3475\" y=\"-7.8\" font-family=\"Helvetica,sans-Serif\" font-size=\"14.00\" fill=\"#000000\">class = 3</text>\n</g>\n<!-- 62&#45;&gt;64 -->\n<g id=\"edge64\" class=\"edge\">\n<title>62&#45;&gt;64</title>\n<path fill=\"none\" stroke=\"#000000\" d=\"M3493.3302,-103.9815C3494.6053,-95.618 3495.9503,-86.7965 3497.2395,-78.3409\"/>\n<polygon fill=\"#000000\" stroke=\"#000000\" points=\"3500.7286,-78.677 3498.7759,-68.2637 3493.8086,-77.6219 3500.7286,-78.677\"/>\n</g>\n</g>\n</svg>\n"
          },
          "metadata": {},
          "execution_count": 75
        }
      ]
    }
  ],
  "metadata": {
    "kernelspec": {
      "display_name": "Python 3.7.9 ('mfi')",
      "language": "python",
      "name": "python3"
    },
    "language_info": {
      "codemirror_mode": {
        "name": "ipython",
        "version": 3
      },
      "file_extension": ".py",
      "mimetype": "text/x-python",
      "name": "python",
      "nbconvert_exporter": "python",
      "pygments_lexer": "ipython3",
      "version": "3.7.9"
    },
    "orig_nbformat": 4,
    "vscode": {
      "interpreter": {
        "hash": "2f506e5d3dc180bf9739ef8803defc0edb8424229ea0893793918f97f92b51bc"
      }
    },
    "colab": {
      "provenance": [],
      "include_colab_link": true
    }
  },
  "nbformat": 4,
  "nbformat_minor": 0
}